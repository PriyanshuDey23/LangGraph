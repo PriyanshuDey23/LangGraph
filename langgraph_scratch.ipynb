{
 "cells": [
  {
   "cell_type": "code",
   "execution_count": 1,
   "metadata": {},
   "outputs": [],
   "source": [
    "def function1(input1):\n",
    "    return input1 + \" From First Function\"\n",
    "\n",
    "def function2(input2):\n",
    "    return input2 + \" From Second Function\""
   ]
  },
  {
   "cell_type": "code",
   "execution_count": 2,
   "metadata": {},
   "outputs": [],
   "source": [
    "# Create my graph\n",
    "from langgraph.graph  import Graph # Import graph class\n"
   ]
  },
  {
   "cell_type": "code",
   "execution_count": 3,
   "metadata": {},
   "outputs": [],
   "source": [
    "workflow1=Graph() # Object creation"
   ]
  },
  {
   "cell_type": "code",
   "execution_count": 4,
   "metadata": {},
   "outputs": [
    {
     "data": {
      "text/plain": [
       "<langgraph.graph.graph.Graph at 0x257c5f58a60>"
      ]
     },
     "execution_count": 4,
     "metadata": {},
     "output_type": "execute_result"
    }
   ],
   "source": [
    "workflow1.add_node(\"function1\",function1) # add node along with function name and function\n"
   ]
  },
  {
   "cell_type": "code",
   "execution_count": 5,
   "metadata": {},
   "outputs": [
    {
     "data": {
      "text/plain": [
       "<langgraph.graph.graph.Graph at 0x257c5f58a60>"
      ]
     },
     "execution_count": 5,
     "metadata": {},
     "output_type": "execute_result"
    }
   ],
   "source": [
    "workflow1.add_node(\"function2\",function2) # add node along with function name and function"
   ]
  },
  {
   "cell_type": "code",
   "execution_count": 6,
   "metadata": {},
   "outputs": [
    {
     "data": {
      "text/plain": [
       "<langgraph.graph.graph.Graph at 0x257c5f58a60>"
      ]
     },
     "execution_count": 6,
     "metadata": {},
     "output_type": "execute_result"
    }
   ],
   "source": [
    "# Add edges from F1 To F2\n",
    "workflow1.add_edge(\"function1\",\"function2\")\n"
   ]
  },
  {
   "cell_type": "code",
   "execution_count": 7,
   "metadata": {},
   "outputs": [
    {
     "data": {
      "text/plain": [
       "<langgraph.graph.graph.Graph at 0x257c5f58a60>"
      ]
     },
     "execution_count": 7,
     "metadata": {},
     "output_type": "execute_result"
    }
   ],
   "source": [
    "# Entry Point\n",
    "workflow1.set_entry_point(\"function1\")"
   ]
  },
  {
   "cell_type": "code",
   "execution_count": 8,
   "metadata": {},
   "outputs": [
    {
     "data": {
      "text/plain": [
       "<langgraph.graph.graph.Graph at 0x257c5f58a60>"
      ]
     },
     "execution_count": 8,
     "metadata": {},
     "output_type": "execute_result"
    }
   ],
   "source": [
    "# Finish point\n",
    "workflow1.set_finish_point(\"function2\")"
   ]
  },
  {
   "cell_type": "code",
   "execution_count": 9,
   "metadata": {},
   "outputs": [
    {
     "data": {
      "image/png": "[encoded data removed]",
      "text/plain": [
       "<langgraph.graph.graph.CompiledGraph object at 0x00000257C5F59390>"
      ]
     },
     "execution_count": 9,
     "metadata": {},
     "output_type": "execute_result"
    }
   ],
   "source": [
    "# Compile\n",
    "workflow1.compile()"
   ]
  },
  {
   "cell_type": "code",
   "execution_count": 10,
   "metadata": {},
   "outputs": [
    {
     "data": {
      "image/png": "[encoded data removed]",
      "text/plain": [
       "<IPython.core.display.Image object>"
      ]
     },
     "metadata": {},
     "output_type": "display_data"
    }
   ],
   "source": [
    "# Visualize \n",
    "app1=workflow1.compile()\n",
    "\n",
    "from IPython.display import Image,display\n",
    "try:\n",
    "    display(Image(app1.get_graph().draw_mermaid_png()))\n",
    "except Exception as e:\n",
    "    print(e)"
   ]
  },
  {
   "cell_type": "code",
   "execution_count": 11,
   "metadata": {},
   "outputs": [
    {
     "data": {
      "text/plain": [
       "'My name is Priyanshu Dey From First Function From Second Function'"
      ]
     },
     "execution_count": 11,
     "metadata": {},
     "output_type": "execute_result"
    }
   ],
   "source": [
    "# Execute the workflow\n",
    "app1.invoke(\"My name is Priyanshu Dey\") # Concatenate"
   ]
  },
  {
   "cell_type": "code",
   "execution_count": 12,
   "metadata": {},
   "outputs": [
    {
     "name": "stdout",
     "output_type": "stream",
     "text": [
      "here is output from function1\n",
      "_______\n",
      "My name is Priyanshu Dey From First Function\n",
      "\n",
      "\n",
      "here is output from function2\n",
      "_______\n",
      "My name is Priyanshu Dey From First Function From Second Function\n",
      "\n",
      "\n"
     ]
    }
   ],
   "source": [
    "input=\"My name is Priyanshu Dey\"\n",
    "\n",
    "for output in app1.stream(input): # Stream is used from single single output\n",
    "    for key,value in output.items(): # Key is the node name value is output \n",
    "        print(f\"here is output from {key}\")\n",
    "        print(\"_______\")\n",
    "        print(value)\n",
    "        print(\"\\n\")\n"
   ]
  },
  {
   "cell_type": "code",
   "execution_count": 13,
   "metadata": {},
   "outputs": [],
   "source": [
    "# Show this later on\n",
    "# Separate entity\n",
    "# Not present in the workflow\n",
    "# But we can call it from and function present in the workflow (Function1 or function 2)\n",
    "def function3(input3):\n",
    "    return input3"
   ]
  },
  {
   "cell_type": "code",
   "execution_count": 14,
   "metadata": {},
   "outputs": [],
   "source": [
    "def function1(input1):\n",
    "    return input1 + \" From First Function\"\n",
    "\n",
    "def function2(input2):\n",
    "    output=function3(\" This is Function 3\")\n",
    "    return input2 + \"\" + output + \" From Second Function\""
   ]
  },
  {
   "cell_type": "code",
   "execution_count": 15,
   "metadata": {},
   "outputs": [],
   "source": [
    "from langgraph.graph  import Graph\n",
    "workflow1=Graph() # Object\n",
    "workflow1.add_node(\"function1\",function1) # add node along with function name and function\n",
    "workflow1.add_node(\"function2\",function2) # add node along with function name and function\n",
    "workflow1.add_edge(\"function1\",\"function2\")\n",
    "workflow1.set_entry_point(\"function1\")\n",
    "workflow1.set_finish_point(\"function2\")\n",
    "app1=workflow1.compile()\n"
   ]
  },
  {
   "cell_type": "code",
   "execution_count": 16,
   "metadata": {},
   "outputs": [
    {
     "data": {
      "text/plain": [
       "'My name is Priyanshu Dey From First Function This is Function 3 From Second Function'"
      ]
     },
     "execution_count": 16,
     "metadata": {},
     "output_type": "execute_result"
    }
   ],
   "source": [
    "# Execute the workflow\n",
    "app1.invoke(\"My name is Priyanshu Dey\") # Concatenate"
   ]
  },
  {
   "cell_type": "code",
   "execution_count": 17,
   "metadata": {},
   "outputs": [
    {
     "name": "stdout",
     "output_type": "stream",
     "text": [
      "here is output from function1\n",
      "_______\n",
      "My name is Priyanshu Dey From First Function\n",
      "\n",
      "\n",
      "here is output from function2\n",
      "_______\n",
      "My name is Priyanshu Dey From First Function This is Function 3 From Second Function\n",
      "\n",
      "\n"
     ]
    }
   ],
   "source": [
    "input=\"My name is Priyanshu Dey\"\n",
    "\n",
    "for output in app1.stream(input): # Stream is used from single single output\n",
    "    for key,value in output.items(): # Key is the node name value is output \n",
    "        print(f\"here is output from {key}\")\n",
    "        print(\"_______\")\n",
    "        print(value)\n",
    "        print(\"\\n\")"
   ]
  },
  {
   "cell_type": "markdown",
   "metadata": {},
   "source": [
    "# Now Create Workflow using LLM"
   ]
  },
  {
   "cell_type": "code",
   "execution_count": 18,
   "metadata": {},
   "outputs": [
    {
     "name": "stderr",
     "output_type": "stream",
     "text": [
      "c:\\Users\\HP\\anaconda3\\envs\\ten\\lib\\site-packages\\tqdm\\auto.py:21: TqdmWarning: IProgress not found. Please update jupyter and ipywidgets. See https://ipywidgets.readthedocs.io/en/stable/user_install.html\n",
      "  from .autonotebook import tqdm as notebook_tqdm\n"
     ]
    },
    {
     "data": {
      "text/plain": [
       "'Hi there! How can I help you today?\\n'"
      ]
     },
     "execution_count": 18,
     "metadata": {},
     "output_type": "execute_result"
    }
   ],
   "source": [
    "from langchain_google_genai import GoogleGenerativeAIEmbeddings\n",
    "embeddings = GoogleGenerativeAIEmbeddings(model=\"models/embedding-001\")\n",
    "from langchain_google_genai import ChatGoogleGenerativeAI\n",
    "llm = ChatGoogleGenerativeAI(model=\"gemini-2.0-flash-exp\")\n",
    "llm.invoke(\"hi\").content"
   ]
  },
  {
   "cell_type": "code",
   "execution_count": 19,
   "metadata": {},
   "outputs": [],
   "source": [
    "def function1(input):\n",
    "    llm = ChatGoogleGenerativeAI(model=\"gemini-2.0-flash-exp\")\n",
    "    response=llm.invoke(input).content\n",
    "    return response"
   ]
  },
  {
   "cell_type": "code",
   "execution_count": 20,
   "metadata": {},
   "outputs": [],
   "source": [
    "# Convert evrything to upper case\n",
    "def function2(input):\n",
    "    upper_case=input.upper()\n",
    "    return upper_case"
   ]
  },
  {
   "cell_type": "code",
   "execution_count": 21,
   "metadata": {},
   "outputs": [],
   "source": [
    "from langgraph.graph  import Graph\n",
    "workflow2=Graph() "
   ]
  },
  {
   "cell_type": "code",
   "execution_count": 22,
   "metadata": {},
   "outputs": [
    {
     "data": {
      "text/plain": [
       "<langgraph.graph.graph.Graph at 0x257c5f5a7d0>"
      ]
     },
     "execution_count": 22,
     "metadata": {},
     "output_type": "execute_result"
    }
   ],
   "source": [
    "workflow2.add_node(\"llm\",function1)"
   ]
  },
  {
   "cell_type": "code",
   "execution_count": 23,
   "metadata": {},
   "outputs": [
    {
     "data": {
      "text/plain": [
       "<langgraph.graph.graph.Graph at 0x257c5f5a7d0>"
      ]
     },
     "execution_count": 23,
     "metadata": {},
     "output_type": "execute_result"
    }
   ],
   "source": [
    "workflow2.add_node(\"upper_string\",function2)"
   ]
  },
  {
   "cell_type": "code",
   "execution_count": 24,
   "metadata": {},
   "outputs": [
    {
     "data": {
      "text/plain": [
       "<langgraph.graph.graph.Graph at 0x257c5f5a7d0>"
      ]
     },
     "execution_count": 24,
     "metadata": {},
     "output_type": "execute_result"
    }
   ],
   "source": [
    "workflow2.add_edge(\"llm\",\"upper_string\")"
   ]
  },
  {
   "cell_type": "code",
   "execution_count": 25,
   "metadata": {},
   "outputs": [
    {
     "data": {
      "text/plain": [
       "<langgraph.graph.graph.Graph at 0x257c5f5a7d0>"
      ]
     },
     "execution_count": 25,
     "metadata": {},
     "output_type": "execute_result"
    }
   ],
   "source": [
    "workflow2.set_entry_point(\"llm\")\n",
    "workflow2.set_finish_point(\"upper_string\")"
   ]
  },
  {
   "cell_type": "code",
   "execution_count": 26,
   "metadata": {},
   "outputs": [
    {
     "data": {
      "image/png": "[encoded data removed]",
      "text/plain": [
       "<langgraph.graph.graph.CompiledGraph object at 0x00000257C3A7FB50>"
      ]
     },
     "execution_count": 26,
     "metadata": {},
     "output_type": "execute_result"
    }
   ],
   "source": [
    "workflow2.compile()"
   ]
  },
  {
   "cell_type": "code",
   "execution_count": 27,
   "metadata": {},
   "outputs": [
    {
     "data": {
      "image/png": "[encoded data removed]",
      "text/plain": [
       "<IPython.core.display.Image object>"
      ]
     },
     "metadata": {},
     "output_type": "display_data"
    }
   ],
   "source": [
    "app2=workflow2.compile()\n",
    "from IPython.display import Image, display\n",
    "\n",
    "try:\n",
    "    display(Image(app2.get_graph().draw_mermaid_png()))\n",
    "except Exception as e:\n",
    "    # This requires some extra dependencies and is optional\n",
    "    print(e)"
   ]
  },
  {
   "cell_type": "code",
   "execution_count": 28,
   "metadata": {},
   "outputs": [
    {
     "data": {
      "text/plain": [
       "'THE FIRST PRIME MINISTER OF INDIA WAS **JAWAHARLAL NEHRU**.\\n'"
      ]
     },
     "execution_count": 28,
     "metadata": {},
     "output_type": "execute_result"
    }
   ],
   "source": [
    "app2.invoke(\"what is a name of first indian prime minister?\")\n"
   ]
  },
  {
   "cell_type": "code",
   "execution_count": 29,
   "metadata": {},
   "outputs": [
    {
     "name": "stdout",
     "output_type": "stream",
     "text": [
      "OKAY, LET'S DIVE DEEP INTO THE WORLD OF GENAI, OR GENERATIVE AI.\n",
      "\n",
      "**WHAT IS GENAI?**\n",
      "\n",
      "AT ITS CORE, GENERATIVE AI IS A SUBSET OF ARTIFICIAL INTELLIGENCE THAT FOCUSES ON CREATING **NEW CONTENT**. UNLIKE TRADITIONAL AI, WHICH IS PRIMARILY DESIGNED TO ANALYZE EXISTING DATA AND MAKE PREDICTIONS OR CLASSIFICATIONS, GENAI AIMS TO *GENERATE* NOVEL OUTPUTS THAT RESEMBLE THE DATA IT WAS TRAINED ON. THINK OF IT AS AN AI THAT CAN LEARN PATTERNS AND THEN USE THOSE PATTERNS TO CREATE SOMETHING NEW.\n",
      "\n",
      "**KEY CONCEPTS AND PRINCIPLES:**\n",
      "\n",
      "* **LEARNING FROM DATA:** GENAI MODELS LEARN FROM MASSIVE DATASETS. THESE DATASETS CAN INCLUDE TEXT, IMAGES, AUDIO, VIDEO, CODE, AND EVEN MOLECULAR STRUCTURES. THE MODELS ANALYZE THESE DATA TO IDENTIFY UNDERLYING PATTERNS, STRUCTURES, AND RELATIONSHIPS.\n",
      "* **NEURAL NETWORKS:** THE MOST COMMON ARCHITECTURE USED IN GENAI IS THE NEURAL NETWORK, SPECIFICALLY DEEP LEARNING MODELS. THESE NETWORKS ARE INSPIRED BY THE STRUCTURE OF THE HUMAN BRAIN, CONSISTING OF INTERCONNECTED NODES (NEURONS) THAT PROCESS INFORMATION.\n",
      "* **GENERATIVE MODELS:** THESE ARE SPECIFIC TYPES OF MODELS DESIGNED TO CREATE NEW DATA. SOME POPULAR EXAMPLES INCLUDE:\n",
      "    * **GENERATIVE ADVERSARIAL NETWORKS (GANS):** GANS INVOLVE TWO COMPETING NETWORKS: A GENERATOR THAT CREATES NEW DATA AND A DISCRIMINATOR THAT TRIES TO DISTINGUISH BETWEEN REAL AND GENERATED DATA. THIS ADVERSARIAL PROCESS DRIVES BOTH NETWORKS TO IMPROVE, RESULTING IN MORE REALISTIC OUTPUTS.\n",
      "    * **VARIATIONAL AUTOENCODERS (VAES):** VAES LEARN A COMPRESSED REPRESENTATION OF THE INPUT DATA (A LATENT SPACE) AND THEN USE THIS REPRESENTATION TO GENERATE NEW DATA.\n",
      "    * **TRANSFORMER NETWORKS:** THESE ARE PARTICULARLY EFFECTIVE FOR HANDLING SEQUENTIAL DATA LIKE TEXT AND ARE THE FOUNDATION OF MANY LARGE LANGUAGE MODELS (LLMS).\n",
      "* **OUTPUT DIVERSITY:** GENAI MODELS CAN PRODUCE A WIDE RANGE OF OUTPUTS, FROM REALISTIC IMAGES AND CONVINCING TEXT TO MUSICAL COMPOSITIONS AND EVEN NOVEL DRUG CANDIDATES.\n",
      "* **BEYOND REPLICATION:** GENAI IS NOT JUST ABOUT COPYING EXISTING DATA. WHILE THE OUTPUTS ARE BASED ON LEARNED PATTERNS, THEY ARE NOT SIMPLY REGURGITATIONS. THE GOAL IS TO CREATE SOMETHING ORIGINAL AND UNIQUE.\n",
      "\n",
      "**HOW DOES GENAI WORK? (SIMPLIFIED)**\n",
      "\n",
      "1. **TRAINING:** THE MODEL IS FED A MASSIVE DATASET OF EXAMPLES (E.G., MILLIONS OF IMAGES OF CATS).\n",
      "2. **PATTERN RECOGNITION:** THE MODEL ANALYZES THIS DATA, IDENTIFYING FEATURES, RELATIONSHIPS, AND PATTERNS. IT ESSENTIALLY LEARNS WHAT A \"CAT\" LOOKS LIKE AT A FUNDAMENTAL LEVEL.\n",
      "3. **LATENT SPACE:** THE MODEL CREATES A COMPRESSED REPRESENTATION OF THIS LEARNED INFORMATION IN A LATENT SPACE. THINK OF IT AS AN ABSTRACT MAP OF THE KEY CHARACTERISTICS OF A \"CAT.\"\n",
      "4. **GENERATION:** WHEN PROMPTED, THE MODEL SAMPLES FROM THIS LATENT SPACE AND \"DECODES\" IT BACK INTO AN OUTPUT (E.G., A NEW, UNIQUE IMAGE OF A CAT).\n",
      "5. **ITERATIVE IMPROVEMENT:** THROUGH TECHNIQUES LIKE BACKPROPAGATION (ADJUSTING THE MODEL'S INTERNAL PARAMETERS) AND ADVERSARIAL TRAINING, THE MODEL CONTINUALLY IMPROVES ITS ABILITY TO GENERATE HIGH-QUALITY OUTPUTS.\n",
      "\n",
      "**TYPES OF GENAI APPLICATIONS:**\n",
      "\n",
      "* **TEXT GENERATION:**\n",
      "    * **LARGE LANGUAGE MODELS (LLMS):** THESE MODELS CAN GENERATE HUMAN-LIKE TEXT, WRITE ARTICLES, TRANSLATE LANGUAGES, CREATE SUMMARIES, AND EVEN WRITE CODE. EXAMPLES INCLUDE GPT-3, LAMDA, AND BARD.\n",
      "    * **CREATIVE WRITING:** GENERATING POEMS, STORIES, SCRIPTS, AND MARKETING COPY.\n",
      "    * **CHATBOTS:** CREATING MORE NATURAL AND ENGAGING CONVERSATIONAL INTERFACES.\n",
      "* **IMAGE GENERATION:**\n",
      "    * **TEXT-TO-IMAGE:** CREATING IMAGES BASED ON TEXTUAL DESCRIPTIONS. EXAMPLES INCLUDE DALL-E 2, MIDJOURNEY, AND STABLE DIFFUSION.\n",
      "    * **IMAGE EDITING AND ENHANCEMENT:** GENERATING VARIATIONS OF EXISTING IMAGES, UPSCALING RESOLUTION, AND FILLING IN MISSING PARTS.\n",
      "    * **REALISTIC AVATARS AND CHARACTERS:** CREATING LIFELIKE DIGITAL HUMANS FOR GAMES AND VIRTUAL ENVIRONMENTS.\n",
      "* **AUDIO GENERATION:**\n",
      "    * **MUSIC COMPOSITION:** GENERATING ORIGINAL MELODIES, HARMONIES, AND FULL MUSICAL PIECES.\n",
      "    * **SPEECH SYNTHESIS:** CREATING REALISTIC TEXT-TO-SPEECH VOICES.\n",
      "    * **SOUND EFFECTS:** GENERATING UNIQUE SOUND EFFECTS FOR GAMES AND VIDEOS.\n",
      "* **VIDEO GENERATION:**\n",
      "    * **TEXT-TO-VIDEO:** GENERATING VIDEOS BASED ON TEXTUAL DESCRIPTIONS.\n",
      "    * **VIDEO EDITING AND ENHANCEMENT:** CREATING SPECIAL EFFECTS, UPSCALING VIDEO RESOLUTION, AND GENERATING TRANSITIONS.\n",
      "    * **VIRTUAL PRODUCTION:** GENERATING REALISTIC BACKGROUNDS AND ENVIRONMENTS FOR FILM AND TV.\n",
      "* **CODE GENERATION:**\n",
      "    * **GENERATING CODE SNIPPETS:** AUTOMATICALLY GENERATING CODE BASED ON DESCRIPTIONS OF DESIRED FUNCTIONALITY.\n",
      "    * **COMPLETING CODE:** SUGGESTING CODE COMPLETIONS AND HELPING DEVELOPERS DEBUG.\n",
      "    * **AUTOMATING SOFTWARE DEVELOPMENT:** SPEEDING UP THE SOFTWARE DEVELOPMENT PROCESS.\n",
      "* **DRUG DISCOVERY:**\n",
      "    * **GENERATING NOVEL MOLECULES:** DESIGNING NEW MOLECULES WITH SPECIFIC PROPERTIES FOR DRUG DEVELOPMENT.\n",
      "    * **PREDICTING DRUG INTERACTIONS:** MODELING HOW DRUGS INTERACT WITH THE BODY.\n",
      "    * **ACCELERATING RESEARCH:** SPEEDING UP THE DRUG DISCOVERY PROCESS.\n",
      "\n",
      "**POTENTIAL BENEFITS OF GENAI:**\n",
      "\n",
      "* **INCREASED CREATIVITY AND PRODUCTIVITY:** GENAI CAN ASSIST HUMANS IN CREATIVE TASKS, FREEING UP TIME FOR OTHER ACTIVITIES.\n",
      "* **AUTOMATION OF REPETITIVE TASKS:** AUTOMATING TASKS LIKE CONTENT CREATION, CODE GENERATION, AND IMAGE EDITING.\n",
      "* **PERSONALIZED EXPERIENCES:** CREATING PERSONALIZED CONTENT AND EXPERIENCES TAILORED TO INDIVIDUAL NEEDS.\n",
      "* **ACCELERATED RESEARCH AND DEVELOPMENT:** SPEEDING UP THE PROCESS OF DISCOVERY IN VARIOUS FIELDS.\n",
      "* **NEW FORMS OF ART AND ENTERTAINMENT:** CREATING NEW FORMS OF ART, MUSIC, AND ENTERTAINMENT.\n",
      "\n",
      "**ETHICAL CONCERNS AND CHALLENGES:**\n",
      "\n",
      "* **MISINFORMATION AND DEEPFAKES:** THE ABILITY TO GENERATE REALISTIC BUT FAKE CONTENT RAISES CONCERNS ABOUT MISINFORMATION AND PROPAGANDA.\n",
      "* **BIAS AND DISCRIMINATION:** GENAI MODELS CAN INHERIT BIASES FROM THE DATA THEY ARE TRAINED ON, LEADING TO DISCRIMINATORY OUTPUTS.\n",
      "* **JOB DISPLACEMENT:** THE AUTOMATION CAPABILITIES OF GENAI COULD LEAD TO JOB DISPLACEMENT IN CERTAIN INDUSTRIES.\n",
      "* **COPYRIGHT AND OWNERSHIP:** QUESTIONS ABOUT THE OWNERSHIP OF CONTENT CREATED BY GENAI REMAIN UNRESOLVED.\n",
      "* **ACCESSIBILITY AND EQUITY:** ENSURING THAT THE BENEFITS OF GENAI ARE ACCESSIBLE TO EVERYONE AND DO NOT EXACERBATE EXISTING INEQUALITIES.\n",
      "\n",
      "**THE FUTURE OF GENAI:**\n",
      "\n",
      "GENAI IS A RAPIDLY EVOLVING FIELD WITH IMMENSE POTENTIAL. AS MODELS BECOME MORE SOPHISTICATED AND DATASETS GROW LARGER, WE CAN EXPECT TO SEE EVEN MORE IMPRESSIVE AND IMPACTFUL APPLICATIONS OF THIS TECHNOLOGY. HOWEVER, IT IS CRUCIAL THAT WE ADDRESS THE ETHICAL CONCERNS AND CHALLENGES ASSOCIATED WITH GENAI TO ENSURE THAT IT IS USED RESPONSIBLY AND FOR THE BENEFIT OF HUMANITY.\n",
      "\n",
      "**IN SUMMARY:**\n",
      "\n",
      "GENAI IS ABOUT USING AI TO CREATE NEW THINGS, NOT JUST ANALYZE EXISTING ONES. IT'S A POWERFUL TECHNOLOGY WITH THE POTENTIAL TO TRANSFORM MANY ASPECTS OF OUR LIVES, BUT IT'S CRUCIAL TO UNDERSTAND ITS CAPABILITIES, LIMITATIONS, AND ETHICAL IMPLICATIONS TO ENSURE ITS RESPONSIBLE DEVELOPMENT AND DEPLOYMENT.\n",
      "\n",
      "THIS DETAILED EXPLANATION SHOULD PROVIDE YOU WITH A COMPREHENSIVE UNDERSTANDING OF GENAI. IF YOU HAVE ANY MORE SPECIFIC QUESTIONS, FEEL FREE TO ASK!\n",
      "\n"
     ]
    }
   ],
   "source": [
    "print(app2.invoke(\"what is genai explain in detail?\"))"
   ]
  },
  {
   "cell_type": "code",
   "execution_count": 30,
   "metadata": {},
   "outputs": [],
   "source": [
    "input=\"what is a name of first indian prime minister?\""
   ]
  },
  {
   "cell_type": "code",
   "execution_count": 31,
   "metadata": {},
   "outputs": [
    {
     "name": "stdout",
     "output_type": "stream",
     "text": [
      "here is output from llm\n",
      "_______\n",
      "The first Prime Minister of India was **Jawaharlal Nehru**.\n",
      "\n",
      "\n",
      "\n",
      "here is output from upper_string\n",
      "_______\n",
      "THE FIRST PRIME MINISTER OF INDIA WAS **JAWAHARLAL NEHRU**.\n",
      "\n",
      "\n",
      "\n"
     ]
    }
   ],
   "source": [
    "for output in app2.stream(input):\n",
    "    for key,value in output.items():\n",
    "        print(f\"here is output from {key}\")\n",
    "        print(\"_______\")\n",
    "        print(value)\n",
    "        print(\"\\n\")"
   ]
  },
  {
   "cell_type": "markdown",
   "metadata": {},
   "source": [
    "# Here lets create our own output token counter"
   ]
  },
  {
   "cell_type": "code",
   "execution_count": 32,
   "metadata": {},
   "outputs": [],
   "source": [
    "def function3(input):\n",
    "    token=input.split()\n",
    "    token_number=len(token)\n",
    "    token_number=f\"total token number is {token_number}\"\n",
    "    return token_number"
   ]
  },
  {
   "cell_type": "code",
   "execution_count": 33,
   "metadata": {},
   "outputs": [],
   "source": [
    "def function1(input):\n",
    "    llm = ChatGoogleGenerativeAI(model=\"gemini-2.0-flash-exp\")\n",
    "    response=llm.invoke(input).content\n",
    "    return response"
   ]
  },
  {
   "cell_type": "code",
   "execution_count": 34,
   "metadata": {},
   "outputs": [],
   "source": [
    "# Convert evrything to upper case\n",
    "def function2(input):\n",
    "    upper_case=input.upper()\n",
    "    return upper_case"
   ]
  },
  {
   "cell_type": "code",
   "execution_count": 35,
   "metadata": {},
   "outputs": [],
   "source": [
    "workflow3=Graph()\n",
    "workflow3.add_node(\"llm\",function1)\n",
    "workflow3.add_node(\"upper_string\",function2)\n",
    "workflow3.add_node(\"token_counter\",function3)\n",
    "workflow3.add_edge(\"llm\",\"upper_string\")\n",
    "workflow3.add_edge(\"upper_string\",\"token_counter\")\n",
    "workflow3.set_entry_point(\"llm\")\n",
    "workflow3.set_finish_point(\"token_counter\")\n",
    "app3=workflow3.compile()"
   ]
  },
  {
   "cell_type": "code",
   "execution_count": 36,
   "metadata": {},
   "outputs": [
    {
     "data": {
      "image/png": "[encoded data removed]",
      "text/plain": [
       "<langgraph.graph.graph.CompiledGraph object at 0x00000257C5F59300>"
      ]
     },
     "execution_count": 36,
     "metadata": {},
     "output_type": "execute_result"
    }
   ],
   "source": [
    "app3"
   ]
  },
  {
   "cell_type": "code",
   "execution_count": 37,
   "metadata": {},
   "outputs": [
    {
     "data": {
      "text/plain": [
       "'total token number is 9'"
      ]
     },
     "execution_count": 37,
     "metadata": {},
     "output_type": "execute_result"
    }
   ],
   "source": [
    "app3.invoke(\"what is a name of first indian prime minister?\")"
   ]
  },
  {
   "cell_type": "code",
   "execution_count": 38,
   "metadata": {},
   "outputs": [
    {
     "data": {
      "text/plain": [
       "'total token number is 964'"
      ]
     },
     "execution_count": 38,
     "metadata": {},
     "output_type": "execute_result"
    }
   ],
   "source": [
    "\n",
    "app3.invoke(\"what is genai explain in detail?\")"
   ]
  },
  {
   "cell_type": "markdown",
   "metadata": {},
   "source": [
    "# Level 4 ( Integrate RAG Pipeline )"
   ]
  },
  {
   "cell_type": "code",
   "execution_count": 39,
   "metadata": {},
   "outputs": [],
   "source": [
    "from langchain_google_genai import GoogleGenerativeAIEmbeddings\n",
    "embeddings = GoogleGenerativeAIEmbeddings(model=\"models/embedding-001\")"
   ]
  },
  {
   "cell_type": "code",
   "execution_count": 40,
   "metadata": {},
   "outputs": [],
   "source": [
    "from langchain_google_genai import ChatGoogleGenerativeAI\n",
    "llm = ChatGoogleGenerativeAI(model=\"gemini-2.0-flash-exp\")"
   ]
  },
  {
   "cell_type": "code",
   "execution_count": 41,
   "metadata": {},
   "outputs": [
    {
     "data": {
      "text/plain": [
       "'Hi there! How can I help you today?\\n'"
      ]
     },
     "execution_count": 41,
     "metadata": {},
     "output_type": "execute_result"
    }
   ],
   "source": [
    "llm.invoke(\"hi\").content"
   ]
  },
  {
   "cell_type": "code",
   "execution_count": 42,
   "metadata": {},
   "outputs": [],
   "source": [
    "from langchain_core.output_parsers import StrOutputParser\n",
    "from langchain_core.prompts import ChatPromptTemplate\n",
    "from langchain_core.runnables import RunnablePassthrough\n",
    "from langchain_community.document_loaders import TextLoader, DirectoryLoader , PyPDFLoader\n",
    "from langchain_community.vectorstores import Chroma\n",
    "from langchain.text_splitter import RecursiveCharacterTextSplitter\n"
   ]
  },
  {
   "cell_type": "code",
   "execution_count": 43,
   "metadata": {},
   "outputs": [],
   "source": [
    "loader = DirectoryLoader('Data/',\n",
    "                            glob=\"*.pdf\",  # Load Only Pdf documents\n",
    "                            loader_cls=PyPDFLoader)\n",
    "docs=loader.load()\n",
    "text_splitter=RecursiveCharacterTextSplitter(\n",
    "    chunk_size=100,\n",
    "    chunk_overlap=50\n",
    ")\n",
    "new_docs = text_splitter.split_documents(documents=docs)\n",
    "doc_strings = [doc.page_content for doc in new_docs]"
   ]
  },
  {
   "cell_type": "code",
   "execution_count": 44,
   "metadata": {},
   "outputs": [
    {
     "data": {
      "text/plain": [
       "[Document(metadata={'source': 'Data\\\\transformer.pdf', 'page': 0}, page_content='Transformer'),\n",
       " Document(metadata={'source': 'Data\\\\transformer.pdf', 'page': 0}, page_content='electrical  transformer  is a static  electrical  machine  which transforms electrical power from'),\n",
       " Document(metadata={'source': 'Data\\\\transformer.pdf', 'page': 0}, page_content='machine  which transforms electrical power from one circuit to'),\n",
       " Document(metadata={'source': 'Data\\\\transformer.pdf', 'page': 0}, page_content='another circuit, without changing the frequency. Transformer can increase or decrease the voltage'),\n",
       " Document(metadata={'source': 'Data\\\\transformer.pdf', 'page': 0}, page_content='Transformer can increase or decrease the voltage with'),\n",
       " Document(metadata={'source': 'Data\\\\transformer.pdf', 'page': 0}, page_content='corresponding decrease or increase in current.  \\nWorking principle of transformer'),\n",
       " Document(metadata={'source': 'Data\\\\transformer.pdf', 'page': 0}, page_content='The basic  principle  behind  working  of a transformer  is the phenomenon of mutual induction'),\n",
       " Document(metadata={'source': 'Data\\\\transformer.pdf', 'page': 0}, page_content='is the phenomenon of mutual induction between two'),\n",
       " Document(metadata={'source': 'Data\\\\transformer.pdf', 'page': 0}, page_content='windings linked by common magnetic flux. The figure at right shows the simplest form of a'),\n",
       " Document(metadata={'source': 'Data\\\\transformer.pdf', 'page': 0}, page_content='The figure at right shows the simplest form of a transformer.'),\n",
       " Document(metadata={'source': 'Data\\\\transformer.pdf', 'page': 0}, page_content='Basically a transformer consists of two inductive coils; primary winding and secondary winding. The'),\n",
       " Document(metadata={'source': 'Data\\\\transformer.pdf', 'page': 0}, page_content='coils; primary winding and secondary winding. The coils are'),\n",
       " Document(metadata={'source': 'Data\\\\transformer.pdf', 'page': 0}, page_content='electrically separated but magnetically linked to ea ch other. When, primary winding is connected'),\n",
       " Document(metadata={'source': 'Data\\\\transformer.pdf', 'page': 0}, page_content='ea ch other. When, primary winding is connected to a source of'),\n",
       " Document(metadata={'source': 'Data\\\\transformer.pdf', 'page': 0}, page_content='alternating voltage, alternating  magnetic  flux is produced  around  the winding . The core'),\n",
       " Document(metadata={'source': 'Data\\\\transformer.pdf', 'page': 0}, page_content='flux is produced  around  the winding . The core provides magnetic  path'),\n",
       " Document(metadata={'source': 'Data\\\\transformer.pdf', 'page': 0}, page_content='for the flux, to get linked with the secondary winding. Most of the flux gets linked with the'),\n",
       " Document(metadata={'source': 'Data\\\\transformer.pdf', 'page': 0}, page_content='winding. Most of the flux gets linked with the secondary winding'),\n",
       " Document(metadata={'source': 'Data\\\\transformer.pdf', 'page': 0}, page_content=\"which is called as 'useful flux' or main 'flux', and the flux which does not get linked with\"),\n",
       " Document(metadata={'source': 'Data\\\\transformer.pdf', 'page': 0}, page_content='and the flux which does not get linked with secondary winding is'),\n",
       " Document(metadata={'source': 'Data\\\\transformer.pdf', 'page': 0}, page_content=\"called as 'leakage flux' .  As the flux produced is alternating (the direction of it is\"),\n",
       " Document(metadata={'source': 'Data\\\\transformer.pdf', 'page': 0}, page_content='produced is alternating (the direction of it is continuously changing), EMF'),\n",
       " Document(metadata={'source': 'Data\\\\transformer.pdf', 'page': 0}, page_content=\"gets induced in the secondary winding according to  Faraday's  law of electrom agnetic  induction .\"),\n",
       " Document(metadata={'source': 'Data\\\\transformer.pdf', 'page': 0}, page_content=\"Faraday's  law of electrom agnetic  induction . This emf is\"),\n",
       " Document(metadata={'source': 'Data\\\\transformer.pdf', 'page': 0}, page_content=\"called 'mutually induced emf', and the frequency of mutually induced emf is same as that of\"),\n",
       " Document(metadata={'source': 'Data\\\\transformer.pdf', 'page': 0}, page_content='of mutually induced emf is same as that of supplied emf. If the'),\n",
       " Document(metadata={'source': 'Data\\\\transformer.pdf', 'page': 0}, page_content='secondary winding is closed circuit, then mutually induced current flows through it, and hence the'),\n",
       " Document(metadata={'source': 'Data\\\\transformer.pdf', 'page': 0}, page_content='induced current flows through it, and hence the electrical'),\n",
       " Document(metadata={'source': 'Data\\\\transformer.pdf', 'page': 0}, page_content='energy is transferred from one circuit (primary) to another circuit (secondary).'),\n",
       " Document(metadata={'source': 'Data\\\\transformer.pdf', 'page': 0}, page_content='Basic construction of transformer'),\n",
       " Document(metadata={'source': 'Data\\\\transformer.pdf', 'page': 0}, page_content='Basically a transformer consists of two inductive windings and a laminated steel core. The coils'),\n",
       " Document(metadata={'source': 'Data\\\\transformer.pdf', 'page': 0}, page_content='windings and a laminated steel core. The coils are insulated'),\n",
       " Document(metadata={'source': 'Data\\\\transformer.pdf', 'page': 0}, page_content='from each other as well as from  the steel core. A transformer may also consist of a container for'),\n",
       " Document(metadata={'source': 'Data\\\\transformer.pdf', 'page': 0}, page_content='A transformer may also consist of a container for winding and'),\n",
       " Document(metadata={'source': 'Data\\\\transformer.pdf', 'page': 0}, page_content='core assembly (called as tank), suitable bushings to take our the terminals, oil conservator to'),\n",
       " Document(metadata={'source': 'Data\\\\transformer.pdf', 'page': 0}, page_content='to take our the terminals, oil conservator to provide oil in the'),\n",
       " Document(metadata={'source': 'Data\\\\transformer.pdf', 'page': 0}, page_content='transformer tank for cooling purposes etc. The figure at left illustrates the basic construction of'),\n",
       " Document(metadata={'source': 'Data\\\\transformer.pdf', 'page': 0}, page_content='at left illustrates the basic construction of a transformer.'),\n",
       " Document(metadata={'source': 'Data\\\\transformer.pdf', 'page': 0}, page_content='In all types of transformers, core is constructed by assembling (stacking) laminated sheets of'),\n",
       " Document(metadata={'source': 'Data\\\\transformer.pdf', 'page': 0}, page_content='by assembling (stacking) laminated sheets of steel, with'),\n",
       " Document(metadata={'source': 'Data\\\\transformer.pdf', 'page': 0}, page_content='minimum air -gap between them (to achieve continuous magnetic path). The steel used is having hi gh'),\n",
       " Document(metadata={'source': 'Data\\\\transformer.pdf', 'page': 0}, page_content='magnetic path). The steel used is having hi gh silicon'),\n",
       " Document(metadata={'source': 'Data\\\\transformer.pdf', 'page': 0}, page_content='content and sometimes heat treated, to provide high permeability and low hysteresis loss. Laminated'),\n",
       " Document(metadata={'source': 'Data\\\\transformer.pdf', 'page': 0}, page_content='permeability and low hysteresis loss. Laminated sheets of'),\n",
       " Document(metadata={'source': 'Data\\\\transformer.pdf', 'page': 0}, page_content='steel are used to reduce eddy current loss. The sheets are cut in the shape as E,I and L. To avoid'),\n",
       " Document(metadata={'source': 'Data\\\\transformer.pdf', 'page': 0}, page_content='are cut in the shape as E,I and L. To avoid high reluctance'),\n",
       " Document(metadata={'source': 'Data\\\\transformer.pdf', 'page': 1}, page_content='at joints, laminatio ns are stacked by alternating the sides of joint. That is, if joints of first'),\n",
       " Document(metadata={'source': 'Data\\\\transformer.pdf', 'page': 1}, page_content='the sides of joint. That is, if joints of first sheet assembly are at'),\n",
       " Document(metadata={'source': 'Data\\\\transformer.pdf', 'page': 1}, page_content='front face, the joints of following assemble are kept at back face.  \\n \\n \\nTypes of transformers'),\n",
       " Document(metadata={'source': 'Data\\\\transformer.pdf', 'page': 1}, page_content='Transformers can be classified on different basis, like types of construction, types of cooling'),\n",
       " Document(metadata={'source': 'Data\\\\transformer.pdf', 'page': 1}, page_content='like types of construction, types of cooling etc.'),\n",
       " Document(metadata={'source': 'Data\\\\transformer.pdf', 'page': 1}, page_content='(A) On the basis  of construction , transformers can be classified into two types as;'),\n",
       " Document(metadata={'source': 'Data\\\\transformer.pdf', 'page': 1}, page_content='(i) Core type transformer and (ii) Shell type transformer, which are described below.'),\n",
       " Document(metadata={'source': 'Data\\\\transformer.pdf', 'page': 1}, page_content='(i) Core type transformer'),\n",
       " Document(metadata={'source': 'Data\\\\transformer.pdf', 'page': 1}, page_content='In core typ e transformer, windings are cylindrical former wound, mounted on   the core limbs as'),\n",
       " Document(metadata={'source': 'Data\\\\transformer.pdf', 'page': 1}, page_content='former wound, mounted on   the core limbs as shown in the'),\n",
       " Document(metadata={'source': 'Data\\\\transformer.pdf', 'page': 1}, page_content='figure above. The cylindrical coils have different layers and each layer is insulated from each'),\n",
       " Document(metadata={'source': 'Data\\\\transformer.pdf', 'page': 1}, page_content='layers and each layer is insulated from each other. Materials'),\n",
       " Document(metadata={'source': 'Data\\\\transformer.pdf', 'page': 1}, page_content='like paper, cloth or mica can be used for insu lation. Low voltage windings are placed nearer to'),\n",
       " Document(metadata={'source': 'Data\\\\transformer.pdf', 'page': 1}, page_content='lation. Low voltage windings are placed nearer to the core, as they'),\n",
       " Document(metadata={'source': 'Data\\\\transformer.pdf', 'page': 1}, page_content='are easier to insulate.'),\n",
       " Document(metadata={'source': 'Data\\\\transformer.pdf', 'page': 2}, page_content='(ii) Shell type transformer'),\n",
       " Document(metadata={'source': 'Data\\\\transformer.pdf', 'page': 2}, page_content='The coils are former wound and mounted in layers stacked with insulation between them. A shell type'),\n",
       " Document(metadata={'source': 'Data\\\\transformer.pdf', 'page': 2}, page_content='with insulation between them. A shell type'),\n",
       " Document(metadata={'source': 'Data\\\\transformer.pdf', 'page': 2}, page_content='transformer may have simple rectangu lar form (as shown in above fig), or   it may have a'),\n",
       " Document(metadata={'source': 'Data\\\\transformer.pdf', 'page': 2}, page_content='form (as shown in above fig), or   it may have a distributed form.'),\n",
       " Document(metadata={'source': 'Data\\\\transformer.pdf', 'page': 2}, page_content='(B) On the basis of their purpose'),\n",
       " Document(metadata={'source': 'Data\\\\transformer.pdf', 'page': 2}, page_content='1. Step up transformer: Voltage increases (with subsequent decrease in current) at secondary.'),\n",
       " Document(metadata={'source': 'Data\\\\transformer.pdf', 'page': 2}, page_content='2. Step down transformer: Voltage decreases (with subsequent increase in current) at secondary.'),\n",
       " Document(metadata={'source': 'Data\\\\transformer.pdf', 'page': 2}, page_content='(C) On the basis of type of supply  \\n1. Single phase transformer  \\n2. Three phase transformer'),\n",
       " Document(metadata={'source': 'Data\\\\transformer.pdf', 'page': 2}, page_content='2. Three phase transformer  \\n3.  \\n(D) On the basis of their use'),\n",
       " Document(metadata={'source': 'Data\\\\transformer.pdf', 'page': 2}, page_content='1. Power transformer: Used in  transmission  network , high rating'),\n",
       " Document(metadata={'source': 'Data\\\\transformer.pdf', 'page': 2}, page_content='2. Distribution transformer: Used in  distribution  network , comparatively lower rating than that'),\n",
       " Document(metadata={'source': 'Data\\\\transformer.pdf', 'page': 2}, page_content='network , comparatively lower rating than that of power'),\n",
       " Document(metadata={'source': 'Data\\\\transformer.pdf', 'page': 2}, page_content='transformers.'),\n",
       " Document(metadata={'source': 'Data\\\\transformer.pdf', 'page': 2}, page_content='3. Instrument transformer: Used in relay and protection purpose in different instrume nts in'),\n",
       " Document(metadata={'source': 'Data\\\\transformer.pdf', 'page': 2}, page_content='protection purpose in different instrume nts in industries'),\n",
       " Document(metadata={'source': 'Data\\\\transformer.pdf', 'page': 2}, page_content='▪  Current transformer (CT)  \\n▪ Potential transformer (PT)  \\n▪'),\n",
       " Document(metadata={'source': 'Data\\\\transformer.pdf', 'page': 2}, page_content='▪ Potential transformer (PT)  \\n▪  \\nOpen circuit and Short circuit Test on transformer'),\n",
       " Document(metadata={'source': 'Data\\\\transformer.pdf', 'page': 2}, page_content='These two  transformer  tests are performed to find the parameters of  equivalent  circui t of'),\n",
       " Document(metadata={'source': 'Data\\\\transformer.pdf', 'page': 2}, page_content='find the parameters of  equivalent  circui t of transformer  and losses'),\n",
       " Document(metadata={'source': 'Data\\\\transformer.pdf', 'page': 2}, page_content='of the transformer . Open  circuit  test and short  circuit  test on transformer  are very'),\n",
       " Document(metadata={'source': 'Data\\\\transformer.pdf', 'page': 2}, page_content='and short  circuit  test on transformer  are very economical and convenient'),\n",
       " Document(metadata={'source': 'Data\\\\transformer.pdf', 'page': 2}, page_content='because they are perfor med without actually loading of the transformer.'),\n",
       " Document(metadata={'source': 'Data\\\\transformer.pdf', 'page': 2}, page_content='Open circuit or No load test on Transformer'),\n",
       " Document(metadata={'source': 'Data\\\\transformer.pdf', 'page': 2}, page_content=\"Open circuit test or no load test on a transformer is performed to determine 'no load loss (core\"),\n",
       " Document(metadata={'source': 'Data\\\\transformer.pdf', 'page': 2}, page_content=\"is performed to determine 'no load loss (core loss)' and 'no load\"),\n",
       " Document(metadata={'source': 'Data\\\\transformer.pdf', 'page': 2}, page_content=\"current I 0'. The  circuit  diagram  for open  circuit  test is shown in the figure below.\"),\n",
       " Document(metadata={'source': 'Data\\\\transformer.pdf', 'page': 2}, page_content='Usually high voltage (HV) winding is kept open and the low voltage (LV) winding is connected to its'),\n",
       " Document(metadata={'source': 'Data\\\\transformer.pdf', 'page': 2}, page_content='the low voltage (LV) winding is connected to its normal'),\n",
       " Document(metadata={'source': 'Data\\\\transformer.pdf', 'page': 2}, page_content='supply. A wattmeter (W), ammeter (A) and voltmeter (V) are connected to the LV winding as shown in'),\n",
       " Document(metadata={'source': 'Data\\\\transformer.pdf', 'page': 2}, page_content='(V) are connected to the LV winding as shown in the'),\n",
       " Document(metadata={'source': 'Data\\\\transformer.pdf', 'page': 3}, page_content='figure. Now, applied voltage is slowly increas ed from zero to normal rated value of the LV side'),\n",
       " Document(metadata={'source': 'Data\\\\transformer.pdf', 'page': 3}, page_content='ed from zero to normal rated value of the LV side with the help of'),\n",
       " Document(metadata={'source': 'Data\\\\transformer.pdf', 'page': 3}, page_content='a variac. When the applied voltage reaches to the rated value of the LV winding, readings from all'),\n",
       " Document(metadata={'source': 'Data\\\\transformer.pdf', 'page': 3}, page_content='rated value of the LV winding, readings from all the three'),\n",
       " Document(metadata={'source': 'Data\\\\transformer.pdf', 'page': 3}, page_content='instruments are taken.'),\n",
       " Document(metadata={'source': 'Data\\\\transformer.pdf', 'page': 3}, page_content='The ammeter reading gives the no load current I 0. As I 0 itself is very small, the voltage drops'),\n",
       " Document(metadata={'source': 'Data\\\\transformer.pdf', 'page': 3}, page_content='0. As I 0 itself is very small, the voltage drops due to this current'),\n",
       " Document(metadata={'source': 'Data\\\\transformer.pdf', 'page': 3}, page_content='can be neglected.'),\n",
       " Document(metadata={'source': 'Data\\\\transformer.pdf', 'page': 3}, page_content='The input power is indicated by the wattmeter (W). And as the other side of transformer is open'),\n",
       " Document(metadata={'source': 'Data\\\\transformer.pdf', 'page': 3}, page_content='(W). And as the other side of transformer is open circuited, there'),\n",
       " Document(metadata={'source': 'Data\\\\transformer.pdf', 'page': 3}, page_content='is no output power. Hence, this input power only consists of core losses and copper losses. As'),\n",
       " Document(metadata={'source': 'Data\\\\transformer.pdf', 'page': 3}, page_content='consists of core losses and copper losses. As described above,'),\n",
       " Document(metadata={'source': 'Data\\\\transformer.pdf', 'page': 3}, page_content='no-load current is so small that these copper losses can be neglected. Hence, now the input power'),\n",
       " Document(metadata={'source': 'Data\\\\transformer.pdf', 'page': 3}, page_content='can be neglected. Hence, now the input power is almost'),\n",
       " Document(metadata={'source': 'Data\\\\transformer.pdf', 'page': 3}, page_content='equal to the core losses. Thus, the wattmeter reading gives the core losses of the transformer.'),\n",
       " Document(metadata={'source': 'Data\\\\transformer.pdf', 'page': 3}, page_content='Someti mes, a high resistance voltmeter is connected across the HV winding. Though, a voltmeter is'),\n",
       " Document(metadata={'source': 'Data\\\\transformer.pdf', 'page': 3}, page_content='across the HV winding. Though, a voltmeter is connected,'),\n",
       " Document(metadata={'source': 'Data\\\\transformer.pdf', 'page': 3}, page_content='HV winding can be treated as open circuit as the current through the voltmeter is negligibly small.'),\n",
       " Document(metadata={'source': 'Data\\\\transformer.pdf', 'page': 3}, page_content='through the voltmeter is negligibly small. This helps in'),\n",
       " Document(metadata={'source': 'Data\\\\transformer.pdf', 'page': 3}, page_content='to find  voltage  transformation  ratio (K).'),\n",
       " Document(metadata={'source': 'Data\\\\transformer.pdf', 'page': 3}, page_content='The two components of no load current can be given as,  \\n \\nIμ = I0sinΦ 0   and    Iw = I0cosΦ 0.'),\n",
       " Document(metadata={'source': 'Data\\\\transformer.pdf', 'page': 3}, page_content='cosΦ 0 (no load power factor) = W / (V 1I0). ... (W = wattmeter reading)'),\n",
       " Document(metadata={'source': 'Data\\\\transformer.pdf', 'page': 3}, page_content='From this, shunt parameters of equivalent circuit parameters of  equivalent  circuit  of'),\n",
       " Document(metadata={'source': 'Data\\\\transformer.pdf', 'page': 3}, page_content='circuit parameters of  equivalent  circuit  of transformer  (X0 and R 0) can'),\n",
       " Document(metadata={'source': 'Data\\\\transformer.pdf', 'page': 3}, page_content='be calculated as  \\n \\nX0 = V 1/Iμ  and  R0 = V 1/Iw.'),\n",
       " Document(metadata={'source': 'Data\\\\transformer.pdf', 'page': 3}, page_content='X0 = V 1/Iμ  and  R0 = V 1/Iw. \\n \\n(These values are referring to LV side of the transformer.)'),\n",
       " Document(metadata={'source': 'Data\\\\transformer.pdf', 'page': 3}, page_content='Hence, it is seen that  open  circuit  test gives core losses of transformer and shunt parameters'),\n",
       " Document(metadata={'source': 'Data\\\\transformer.pdf', 'page': 3}, page_content='core losses of transformer and shunt parameters of the equivalent'),\n",
       " Document(metadata={'source': 'Data\\\\transformer.pdf', 'page': 3}, page_content='circuit.  \\n \\nShort circuit or Impedance test on Transformer'),\n",
       " Document(metadata={'source': 'Data\\\\transformer.pdf', 'page': 3}, page_content='The connection  diagram  for short  circuit  test or impedance test on transformer is as shown in'),\n",
       " Document(metadata={'source': 'Data\\\\transformer.pdf', 'page': 3}, page_content='or impedance test on transformer is as shown in the figure'),\n",
       " Document(metadata={'source': 'Data\\\\transformer.pdf', 'page': 3}, page_content='below. The LV side of transformer is short circuited and wattmeter (W), voltmere (V) and ammeter'),\n",
       " Document(metadata={'source': 'Data\\\\transformer.pdf', 'page': 3}, page_content='and wattmeter (W), voltmere (V) and ammeter (A) are'),\n",
       " Document(metadata={'source': 'Data\\\\transformer.pdf', 'page': 3}, page_content='connected on the HV side of the transformer. Volta ge is applied to the HV side and increased from'),\n",
       " Document(metadata={'source': 'Data\\\\transformer.pdf', 'page': 3}, page_content='ge is applied to the HV side and increased from the zero'),\n",
       " Document(metadata={'source': 'Data\\\\transformer.pdf', 'page': 3}, page_content='until the ammeter reading equals the rated current. All the readings are taken at this rated'),\n",
       " Document(metadata={'source': 'Data\\\\transformer.pdf', 'page': 3}, page_content='current. All the readings are taken at this rated current.'),\n",
       " Document(metadata={'source': 'Data\\\\transformer.pdf', 'page': 3}, page_content='The ammeter reading gives primary equivalent of full load current (I sc).'),\n",
       " Document(metadata={'source': 'Data\\\\transformer.pdf', 'page': 3}, page_content='The voltage applied for full load current is very small as compared to rated voltage. Hence, core'),\n",
       " Document(metadata={'source': 'Data\\\\transformer.pdf', 'page': 3}, page_content='small as compared to rated voltage. Hence, core loss due to'),\n",
       " Document(metadata={'source': 'Data\\\\transformer.pdf', 'page': 3}, page_content='small applied voltage can be neglected. Thus, the wattmeter reading can be taken as copper loss in'),\n",
       " Document(metadata={'source': 'Data\\\\transformer.pdf', 'page': 3}, page_content='wattmeter reading can be taken as copper loss in the'),\n",
       " Document(metadata={'source': 'Data\\\\transformer.pdf', 'page': 3}, page_content='transformer.'),\n",
       " Document(metadata={'source': 'Data\\\\transformer.pdf', 'page': 3}, page_content='Therefore, W = I sc2Req....... (where R eq is the equivalent resistance of transformer)'),\n",
       " Document(metadata={'source': 'Data\\\\transformer.pdf', 'page': 3}, page_content='Zeq = V sc/Isc.'),\n",
       " Document(metadata={'source': 'Data\\\\transformer.pdf', 'page': 3}, page_content='Therefore, equivalent reactance of transformer can be calculated from the formula   Zeq2 = R eq2 +'),\n",
       " Document(metadata={'source': 'Data\\\\transformer.pdf', 'page': 3}, page_content='be calculated from the formula   Zeq2 = R eq2 + X eq2.'),\n",
       " Document(metadata={'source': 'Data\\\\transformer.pdf', 'page': 3}, page_content='These, values are referred to the HV side of the transformer.'),\n",
       " Document(metadata={'source': 'Data\\\\transformer.pdf', 'page': 3}, page_content='Hence, it is seen that the shor t circuit test gives copper losses of transformer and approximate'),\n",
       " Document(metadata={'source': 'Data\\\\transformer.pdf', 'page': 3}, page_content='copper losses of transformer and approximate equivalent'),\n",
       " Document(metadata={'source': 'Data\\\\transformer.pdf', 'page': 4}, page_content='resistance and reactance of the transformer.  \\n \\nWhy Transformers are rated in kVA?'),\n",
       " Document(metadata={'source': 'Data\\\\transformer.pdf', 'page': 4}, page_content='From the above transformer tests, it can be seen that  Cu loss of a transformer  depends on'),\n",
       " Document(metadata={'source': 'Data\\\\transformer.pdf', 'page': 4}, page_content='seen that  Cu loss of a transformer  depends on current, and'),\n",
       " Document(metadata={'source': 'Data\\\\transformer.pdf', 'page': 4}, page_content='iron loss depends on voltage. Thus, total transformer loss depends on volt -ampere (VA). It does'),\n",
       " Document(metadata={'source': 'Data\\\\transformer.pdf', 'page': 4}, page_content='loss depends on volt -ampere (VA). It does not'),\n",
       " Document(metadata={'source': 'Data\\\\transformer.pdf', 'page': 4}, page_content='depend on the p hase angle between voltage and current, i.e. transformer loss is independent of'),\n",
       " Document(metadata={'source': 'Data\\\\transformer.pdf', 'page': 4}, page_content='current, i.e. transformer loss is independent of load'),\n",
       " Document(metadata={'source': 'Data\\\\transformer.pdf', 'page': 4}, page_content='power factor. This is the  reason  that transformers  are rated  in kVA . \\nLosses in transformer'),\n",
       " Document(metadata={'source': 'Data\\\\transformer.pdf', 'page': 4}, page_content='Losses in transformer'),\n",
       " Document(metadata={'source': 'Data\\\\transformer.pdf', 'page': 4}, page_content=\"In any  electrical  machine , 'loss' can be defined as the difference between input power and\"),\n",
       " Document(metadata={'source': 'Data\\\\transformer.pdf', 'page': 4}, page_content='defined as the difference between input power and output power.'),\n",
       " Document(metadata={'source': 'Data\\\\transformer.pdf', 'page': 4}, page_content='An electrical  transformer  is an static  device , hence mechanical losses (like windage or'),\n",
       " Document(metadata={'source': 'Data\\\\transformer.pdf', 'page': 4}, page_content='device , hence mechanical losses (like windage or friction losses) are absent'),\n",
       " Document(metadata={'source': 'Data\\\\transformer.pdf', 'page': 4}, page_content='in it. A transformer only consists of electrical losses (iron losses and copper losses).'),\n",
       " Document(metadata={'source': 'Data\\\\transformer.pdf', 'page': 4}, page_content='losses (iron losses and copper losses). Transformer losses are'),\n",
       " Document(metadata={'source': 'Data\\\\transformer.pdf', 'page': 4}, page_content='similar to  losses  in a DC machine , except that transformers do not have mechanical losses.'),\n",
       " Document(metadata={'source': 'Data\\\\transformer.pdf', 'page': 4}, page_content='Losses  in transformer  are explained below - \\n \\n(i) Core losses or Iron losses'),\n",
       " Document(metadata={'source': 'Data\\\\transformer.pdf', 'page': 4}, page_content='Eddy current loss and hysteresis los s depend upon the magnetic properties of the material used for'),\n",
       " Document(metadata={'source': 'Data\\\\transformer.pdf', 'page': 4}, page_content='the magnetic properties of the material used for the'),\n",
       " Document(metadata={'source': 'Data\\\\transformer.pdf', 'page': 4}, page_content='construction of core. Hence these losses are also known as  core losses  or iron losses .'),\n",
       " Document(metadata={'source': 'Data\\\\transformer.pdf', 'page': 4}, page_content='▪ Hysteresis  loss in transformer : Hysteresis loss is due to reversal of magnetization in the'),\n",
       " Document(metadata={'source': 'Data\\\\transformer.pdf', 'page': 4}, page_content='loss is due to reversal of magnetization in the transformer core.'),\n",
       " Document(metadata={'source': 'Data\\\\transformer.pdf', 'page': 4}, page_content='This loss depends upon the volume and grade of the iron, frequency of magnetic reversals and value'),\n",
       " Document(metadata={'source': 'Data\\\\transformer.pdf', 'page': 4}, page_content='iron, frequency of magnetic reversals and value of flux'),\n",
       " Document(metadata={'source': 'Data\\\\transformer.pdf', 'page': 4}, page_content='density. It can be given by, Steinmetz formula:  \\nWh= ηB max1.6fV (watts)'),\n",
       " Document(metadata={'source': 'Data\\\\transformer.pdf', 'page': 4}, page_content='Wh= ηB max1.6fV (watts)  \\nwhere,   η = Steinmetz hysteresis constant'),\n",
       " Document(metadata={'source': 'Data\\\\transformer.pdf', 'page': 4}, page_content='where,   η = Steinmetz hysteresis constant  \\n             V = volume of the core in m3'),\n",
       " Document(metadata={'source': 'Data\\\\transformer.pdf', 'page': 4}, page_content='▪ Eddy  current  loss in transformer : In transformer, AC current is supplied to the primary'),\n",
       " Document(metadata={'source': 'Data\\\\transformer.pdf', 'page': 4}, page_content='AC current is supplied to the primary winding which'),\n",
       " Document(metadata={'source': 'Data\\\\transformer.pdf', 'page': 4}, page_content='sets up alternating magnetizing flux. When this flux links with secondary winding, it produces'),\n",
       " Document(metadata={'source': 'Data\\\\transformer.pdf', 'page': 4}, page_content='flux links with secondary winding, it produces induced emf'),\n",
       " Document(metadata={'source': 'Data\\\\transformer.pdf', 'page': 4}, page_content='in it. But some part of this flux also gets linked with other conducting parts like steel core or'),\n",
       " Document(metadata={'source': 'Data\\\\transformer.pdf', 'page': 4}, page_content='with other conducting parts like steel core or iron body or'),\n",
       " Document(metadata={'source': 'Data\\\\transformer.pdf', 'page': 4}, page_content='the transformer, which will result in induced emf in those parts, causing small circulating current'),\n",
       " Document(metadata={'source': 'Data\\\\transformer.pdf', 'page': 4}, page_content='in those parts, causing small circulating current in them.'),\n",
       " Document(metadata={'source': 'Data\\\\transformer.pdf', 'page': 4}, page_content='This current is called as eddy current. Due to these eddy currents, some energy will be dissipated'),\n",
       " Document(metadata={'source': 'Data\\\\transformer.pdf', 'page': 4}, page_content='eddy currents, some energy will be dissipated in the form'),\n",
       " Document(metadata={'source': 'Data\\\\transformer.pdf', 'page': 4}, page_content='of heat. \\n (ii) Copper loss in transformer'),\n",
       " Document(metadata={'source': 'Data\\\\transformer.pdf', 'page': 4}, page_content='Copper loss is due to ohmic resistance of the transformer windings.   Copper loss for the primary'),\n",
       " Document(metadata={'source': 'Data\\\\transformer.pdf', 'page': 4}, page_content='windings.   Copper loss for the primary winding is'),\n",
       " Document(metadata={'source': 'Data\\\\transformer.pdf', 'page': 4}, page_content='I12R1 and for secondary winding is I 22R2. Where, I 1 and I 2 are current in primary and secondary'),\n",
       " Document(metadata={'source': 'Data\\\\transformer.pdf', 'page': 4}, page_content='I 1 and I 2 are current in primary and secondary winding'),\n",
       " Document(metadata={'source': 'Data\\\\transformer.pdf', 'page': 5}, page_content='respec tively, R 1 and R 2 are the resistances of primary and secondary winding respectively. It is'),\n",
       " Document(metadata={'source': 'Data\\\\transformer.pdf', 'page': 5}, page_content='primary and secondary winding respectively. It is clear that Cu'),\n",
       " Document(metadata={'source': 'Data\\\\transformer.pdf', 'page': 5}, page_content='loss is proportional to square of the current, and current depends on the load. Hence copper loss'),\n",
       " Document(metadata={'source': 'Data\\\\transformer.pdf', 'page': 5}, page_content='current depends on the load. Hence copper loss in transformer'),\n",
       " Document(metadata={'source': 'Data\\\\transformer.pdf', 'page': 5}, page_content='varies with the load.  \\n \\nEfficiency of T ransformer'),\n",
       " Document(metadata={'source': 'Data\\\\transformer.pdf', 'page': 5}, page_content='Just like any other electrical machine,  efficiency  of a transformer  can be defined as the output'),\n",
       " Document(metadata={'source': 'Data\\\\transformer.pdf', 'page': 5}, page_content='of a transformer  can be defined as the output power divided'),\n",
       " Document(metadata={'source': 'Data\\\\transformer.pdf', 'page': 5}, page_content='by the input power. That is   efficiency  = output  / input  .'),\n",
       " Document(metadata={'source': 'Data\\\\transformer.pdf', 'page': 5}, page_content='Transformers are the most highly efficient electrical devices. Most of the transformers have full'),\n",
       " Document(metadata={'source': 'Data\\\\transformer.pdf', 'page': 5}, page_content='devices. Most of the transformers have full load efficiency'),\n",
       " Document(metadata={'source': 'Data\\\\transformer.pdf', 'page': 5}, page_content='between 95% to 98.5% . As a transformer being highly efficient, output and input are having nearly'),\n",
       " Document(metadata={'source': 'Data\\\\transformer.pdf', 'page': 5}, page_content='efficient, output and input are having nearly same value,'),\n",
       " Document(metadata={'source': 'Data\\\\transformer.pdf', 'page': 5}, page_content='and hence it is impractical to measure the efficiency of transformer by using output / input. A'),\n",
       " Document(metadata={'source': 'Data\\\\transformer.pdf', 'page': 5}, page_content='of transformer by using output / input. A better  method to'),\n",
       " Document(metadata={'source': 'Data\\\\transformer.pdf', 'page': 5}, page_content='find efficiency of a transformer is using,  efficiency  = (input  - losses)  / input  = 1 - (losses'),\n",
       " Document(metadata={'source': 'Data\\\\transformer.pdf', 'page': 5}, page_content='= (input  - losses)  / input  = 1 - (losses  / input).'),\n",
       " Document(metadata={'source': 'Data\\\\transformer.pdf', 'page': 5}, page_content='Condition for maximum efficiency  \\nLet, \\nCopper loss = I12R1  \\nIron loss = Wi'),\n",
       " Document(metadata={'source': 'Data\\\\transformer.pdf', 'page': 6}, page_content='Hence,  efficiency  of a transformer  will be maximum when copper lo ss and iron losses are equal.'),\n",
       " Document(metadata={'source': 'Data\\\\transformer.pdf', 'page': 6}, page_content='That is Copper loss = Iron loss.  \\nAll day efficiency of transformer'),\n",
       " Document(metadata={'source': 'Data\\\\transformer.pdf', 'page': 6}, page_content='As we have seen above, ordinary or commercial efficiency of a transformer can be given as'),\n",
       " Document(metadata={'source': 'Data\\\\transformer.pdf', 'page': 6}, page_content='But in some types of transformers, their performance can not be judged by this efficiency. For'),\n",
       " Document(metadata={'source': 'Data\\\\transformer.pdf', 'page': 6}, page_content='can not be judged by this efficiency. For example,'),\n",
       " Document(metadata={'source': 'Data\\\\transformer.pdf', 'page': 6}, page_content='distribution transformers have their primaries energized all the time. But, their secondaries'),\n",
       " Document(metadata={'source': 'Data\\\\transformer.pdf', 'page': 6}, page_content='energized all the time. But, their secondaries supply little load all'),\n",
       " Document(metadata={'source': 'Data\\\\transformer.pdf', 'page': 6}, page_content='no-load most of the time during day  (as residential use of electricity is observed mostly during'),\n",
       " Document(metadata={'source': 'Data\\\\transformer.pdf', 'page': 6}, page_content='use of electricity is observed mostly during evening till'),\n",
       " Document(metadata={'source': 'Data\\\\transformer.pdf', 'page': 6}, page_content='midnight).'),\n",
       " Document(metadata={'source': 'Data\\\\transformer.pdf', 'page': 6}, page_content='That is, when secondaries of transformer are not supplying any load (or supplying only little'),\n",
       " Document(metadata={'source': 'Data\\\\transformer.pdf', 'page': 6}, page_content='not supplying any load (or supplying only little load), then only'),\n",
       " Document(metadata={'source': 'Data\\\\transformer.pdf', 'page': 6}, page_content='core losses of transformer are considerable and copper loss es are absent (or very little). Copper'),\n",
       " Document(metadata={'source': 'Data\\\\transformer.pdf', 'page': 6}, page_content='loss es are absent (or very little). Copper losses are'),\n",
       " Document(metadata={'source': 'Data\\\\transformer.pdf', 'page': 6}, page_content='considerable only when transformers are loaded. Thus, for such transformers copper losses are'),\n",
       " Document(metadata={'source': 'Data\\\\transformer.pdf', 'page': 6}, page_content='Thus, for such transformers copper losses are relatively less'),\n",
       " Document(metadata={'source': 'Data\\\\transformer.pdf', 'page': 6}, page_content='important.   The performance of such transformers is compared on the basis of energy consumed in'),\n",
       " Document(metadata={'source': 'Data\\\\transformer.pdf', 'page': 6}, page_content='is compared on the basis of energy consumed in one day.'),\n",
       " Document(metadata={'source': 'Data\\\\transformer.pdf', 'page': 6}, page_content='All day efficiency  of a transformer  is always less than ordinary efficiency of it'),\n",
       " Document(metadata={'source': 'Data\\\\transformer.pdf', 'page': 6}, page_content='EMF equation of a transformer and Voltage Transformation Ratio'),\n",
       " Document(metadata={'source': 'Data\\\\transformer.pdf', 'page': 6}, page_content='In a transf ormer , source of alternating current is applied to the primary winding. Due to this,'),\n",
       " Document(metadata={'source': 'Data\\\\transformer.pdf', 'page': 6}, page_content='is applied to the primary winding. Due to this, the current in the'),\n",
       " Document(metadata={'source': 'Data\\\\transformer.pdf', 'page': 6}, page_content='primary winding (called as magnetizing current) produces alternating flux in the core of'),\n",
       " Document(metadata={'source': 'Data\\\\transformer.pdf', 'page': 6}, page_content='current) produces alternating flux in the core of transformer. This'),\n",
       " Document(metadata={'source': 'Data\\\\transformer.pdf', 'page': 6}, page_content='alternating flux gets linked with the secondary winding, and because of the phenomenon of  mutual'),\n",
       " Document(metadata={'source': 'Data\\\\transformer.pdf', 'page': 6}, page_content='and because of the phenomenon of  mutual  induction  an'),\n",
       " Document(metadata={'source': 'Data\\\\transformer.pdf', 'page': 6}, page_content='emf gets induced in the secondary winding. Magnitude of this induced emf can be found by using the'),\n",
       " Document(metadata={'source': 'Data\\\\transformer.pdf', 'page': 6}, page_content='following  EMF  equation  of the transformer . \\nEMF equation of the Transformer  \\nLet,'),\n",
       " Document(metadata={'source': 'Data\\\\transformer.pdf', 'page': 6}, page_content='EMF equation of the Transformer  \\nLet, \\nN1 = Number of turns in primary winding'),\n",
       " Document(metadata={'source': 'Data\\\\transformer.pdf', 'page': 6}, page_content='Let, \\nN1 = Number of turns in primary winding  \\nN2 = Number of turns in secondary winding'),\n",
       " Document(metadata={'source': 'Data\\\\transformer.pdf', 'page': 6}, page_content='N2 = Number of turns in secondary winding  \\nΦm = Maximum flux in the core (in Wb) = (B m x A)'),\n",
       " Document(metadata={'source': 'Data\\\\transformer.pdf', 'page': 6}, page_content='f = frequency of the AC supply (in Hz)'),\n",
       " Document(metadata={'source': 'Data\\\\transformer.pdf', 'page': 7}, page_content='As, shown in the fig., the flux rises sinusoidally to its maximum value Φ m from 0. It reaches to'),\n",
       " Document(metadata={'source': 'Data\\\\transformer.pdf', 'page': 7}, page_content='to its maximum value Φ m from 0. It reaches to the maximum'),\n",
       " Document(metadata={'source': 'Data\\\\transformer.pdf', 'page': 7}, page_content='value in one quarter of the cycle i.e in T/4 sec (where, T is time period of the sin wave of the'),\n",
       " Document(metadata={'source': 'Data\\\\transformer.pdf', 'page': 7}, page_content='(where, T is time period of the sin wave of the supply = 1/f).'),\n",
       " Document(metadata={'source': 'Data\\\\transformer.pdf', 'page': 7}, page_content='Therefore,  \\naverage rate of change  of flux =  Φm /(T/4)    = Φm /(1/4f) \\nTherefore,'),\n",
       " Document(metadata={'source': 'Data\\\\transformer.pdf', 'page': 7}, page_content='Therefore,  \\naverage rate of change of flux = 4f Φ m       ....... (Wb/s).  \\nNow,'),\n",
       " Document(metadata={'source': 'Data\\\\transformer.pdf', 'page': 7}, page_content='Now,  \\nInduced emf per turn = rate of change of flux per turn'),\n",
       " Document(metadata={'source': 'Data\\\\transformer.pdf', 'page': 7}, page_content='Therefore, average emf per turn = 4f Φ m   ..........(Volts).  Now, we know,   Form factor = RMS'),\n",
       " Document(metadata={'source': 'Data\\\\transformer.pdf', 'page': 7}, page_content='Now, we know,   Form factor = RMS value / average'),\n",
       " Document(metadata={'source': 'Data\\\\transformer.pdf', 'page': 7}, page_content='value  \\nTherefore, RMS value of emf per turn = Form factor  X average emf per turn.'),\n",
       " Document(metadata={'source': 'Data\\\\transformer.pdf', 'page': 7}, page_content='As, the flux Φ varies sinusoidally, form factor of a sine wave is 1.11'),\n",
       " Document(metadata={'source': 'Data\\\\transformer.pdf', 'page': 7}, page_content='Therefore, RMS value of emf per turn =   1.11 x 4f Φ m = 4.44f Φ m.'),\n",
       " Document(metadata={'source': 'Data\\\\transformer.pdf', 'page': 7}, page_content='RMS value of induced emf in whole primary winding (E 1) = RMS value of emf per turn  X Number of'),\n",
       " Document(metadata={'source': 'Data\\\\transformer.pdf', 'page': 7}, page_content='(E 1) = RMS value of emf per turn  X Number of turns in'),\n",
       " Document(metadata={'source': 'Data\\\\transformer.pdf', 'page': 7}, page_content='primary winding  \\n \\n          E1 = 4.44f N 1 Φm          ............................. eq 1'),\n",
       " Document(metadata={'source': 'Data\\\\transformer.pdf', 'page': 7}, page_content='Similarly, RMS induced emf in secondary windi ng (E 2) can be given as'),\n",
       " Document(metadata={'source': 'Data\\\\transformer.pdf', 'page': 7}, page_content='E2 = 4.44f N 2 Φm.          ............................ eq 2'),\n",
       " Document(metadata={'source': 'Data\\\\transformer.pdf', 'page': 7}, page_content='from the above equations 1 and 2,'),\n",
       " Document(metadata={'source': 'Data\\\\transformer.pdf', 'page': 7}, page_content='This is called the  emf equation  of transformer , which shows, emf  / number of turns is same for'),\n",
       " Document(metadata={'source': 'Data\\\\transformer.pdf', 'page': 7}, page_content=', which shows, emf  / number of turns is same for both primary'),\n",
       " Document(metadata={'source': 'Data\\\\transformer.pdf', 'page': 7}, page_content='and secondary winding.'),\n",
       " Document(metadata={'source': 'Data\\\\transformer.pdf', 'page': 8}, page_content='For an  ideal  transformer  on no load, E 1 = V 1 and E 2 = V 2 .'),\n",
       " Document(metadata={'source': 'Data\\\\transformer.pdf', 'page': 8}, page_content='where, V 1 = supply voltage of primary winding'),\n",
       " Document(metadata={'source': 'Data\\\\transformer.pdf', 'page': 8}, page_content='V2 = terminal voltage of secondary winding  \\nVoltage Transformation Ratio (K)'),\n",
       " Document(metadata={'source': 'Data\\\\transformer.pdf', 'page': 8}, page_content='Voltage Transformation Ratio (K)  \\nAs derived above,  \\n \\nWhere, K = constant'),\n",
       " Document(metadata={'source': 'Data\\\\transformer.pdf', 'page': 8}, page_content='Where, K = constant  \\nThis constant K is known as  voltage  transformation  ratio .'),\n",
       " Document(metadata={'source': 'Data\\\\transformer.pdf', 'page': 8}, page_content='▪ If N 2 > N 1, i.e. K > 1, then the transformer is called step -up transformer.'),\n",
       " Document(metadata={'source': 'Data\\\\transformer.pdf', 'page': 8}, page_content='▪ If N 2 < N 1, i.e. K < 1, then the transformer is called step -down transformer.  \\n▪'),\n",
       " Document(metadata={'source': 'Data\\\\transformer.pdf', 'page': 8}, page_content='▪  \\nEquivalent circuit of Transformer  \\n \\nn a practical  transformer  -'),\n",
       " Document(metadata={'source': 'Data\\\\transformer.pdf', 'page': 8}, page_content='(a) Some  leakage  flux is present at both primary and seco ndary sides. This leakage gives rise to'),\n",
       " Document(metadata={'source': 'Data\\\\transformer.pdf', 'page': 8}, page_content='and seco ndary sides. This leakage gives rise to leakage'),\n",
       " Document(metadata={'source': 'Data\\\\transformer.pdf', 'page': 8}, page_content='reactances at both sides, which are denoted as X 1 and X 2 respectively.'),\n",
       " Document(metadata={'source': 'Data\\\\transformer.pdf', 'page': 8}, page_content='(b) Both the primary and secondary winding possesses resistance, denoted as R 1 and R 2'),\n",
       " Document(metadata={'source': 'Data\\\\transformer.pdf', 'page': 8}, page_content='possesses resistance, denoted as R 1 and R 2 respectively. These'),\n",
       " Document(metadata={'source': 'Data\\\\transformer.pdf', 'page': 8}, page_content='resistances causes  voltage drop as, I 1R1 and I 2R2 and also  copper  loss I12R1 and I 22R2.'),\n",
       " Document(metadata={'source': 'Data\\\\transformer.pdf', 'page': 8}, page_content='(c) Permeability of the core can not be infinite, hence some magnetizing current is needed. M utual'),\n",
       " Document(metadata={'source': 'Data\\\\transformer.pdf', 'page': 8}, page_content='hence some magnetizing current is needed. M utual flux also'),\n",
       " Document(metadata={'source': 'Data\\\\transformer.pdf', 'page': 8}, page_content='causes  core loss in iron parts of the transformer.  \\nEquivalent  circuit  of transformer'),\n",
       " Document(metadata={'source': 'Data\\\\transformer.pdf', 'page': 8}, page_content='Resistances  and reactances  of transformer , which are described above, can be imagined separately'),\n",
       " Document(metadata={'source': 'Data\\\\transformer.pdf', 'page': 8}, page_content='are described above, can be imagined separately from the'),\n",
       " Document(metadata={'source': 'Data\\\\transformer.pdf', 'page': 8}, page_content='windings (as shown in the figure below). Hence, the f unction of windings, thereafter, will only be'),\n",
       " Document(metadata={'source': 'Data\\\\transformer.pdf', 'page': 8}, page_content='f unction of windings, thereafter, will only be the'),\n",
       " Document(metadata={'source': 'Data\\\\transformer.pdf', 'page': 8}, page_content='transforming the voltage.'),\n",
       " Document(metadata={'source': 'Data\\\\transformer.pdf', 'page': 8}, page_content='The no load current I 0 is divided into, pure inductance X 0 (taking magnetizing components I μ)'),\n",
       " Document(metadata={'source': 'Data\\\\transformer.pdf', 'page': 8}, page_content='X 0 (taking magnetizing components I μ) and non'),\n",
       " Document(metadata={'source': 'Data\\\\transformer.pdf', 'page': 8}, page_content='induction resistance R 0 (taking working component I w) which are connected into parallel across'),\n",
       " Document(metadata={'source': 'Data\\\\transformer.pdf', 'page': 8}, page_content='I w) which are connected into parallel across the primary.'),\n",
       " Document(metadata={'source': 'Data\\\\transformer.pdf', 'page': 9}, page_content='The value of E 1 can be obtained by subtracting I 1Z1 from V 1. The value of R 0 and X 0 can be'),\n",
       " Document(metadata={'source': 'Data\\\\transformer.pdf', 'page': 9}, page_content='I 1Z1 from V 1. The value of R 0 and X 0 can be calculated as, R 0 ='),\n",
       " Document(metadata={'source': 'Data\\\\transformer.pdf', 'page': 9}, page_content='E1 / Iw and X 0 = E 1 / Iμ.'),\n",
       " Document(metadata={'source': 'Data\\\\transformer.pdf', 'page': 9}, page_content='But, using this equivalent circuit  does not simplifies the calculations. To make calculations'),\n",
       " Document(metadata={'source': 'Data\\\\transformer.pdf', 'page': 9}, page_content='simplifies the calculations. To make calculations simpler, it is'),\n",
       " Document(metadata={'source': 'Data\\\\transformer.pdf', 'page': 9}, page_content='preferable to transfer current, voltage and impedance either to primary side or to the secondary'),\n",
       " Document(metadata={'source': 'Data\\\\transformer.pdf', 'page': 9}, page_content='either to primary side or to the secondary side. In that'),\n",
       " Document(metadata={'source': 'Data\\\\transformer.pdf', 'page': 9}, page_content='case, we would have to work with only one winding which is more conven ient.'),\n",
       " Document(metadata={'source': 'Data\\\\transformer.pdf', 'page': 9}, page_content='From the voltage transformation ratio, it is clear that,  \\nE1 / E2 = N 1 / N2 = K'),\n",
       " Document(metadata={'source': 'Data\\\\transformer.pdf', 'page': 9}, page_content='E1 / E2 = N 1 / N2 = K \\n \\nNow, lets refer the parameters of secondary side to primary.'),\n",
       " Document(metadata={'source': 'Data\\\\transformer.pdf', 'page': 9}, page_content=\"Z2 can be referred to primary as Z 2'\"),\n",
       " Document(metadata={'source': 'Data\\\\transformer.pdf', 'page': 9}, page_content=\"where, Z 2' = (N 1/N2)2Z2 = K2Z2.   ............where K= N 1/N2.\"),\n",
       " Document(metadata={'source': 'Data\\\\transformer.pdf', 'page': 9}, page_content=\"that is, R 2'+jX 2' = K2(R2+jX 2) \\nequating real and imaginary parts,\"),\n",
       " Document(metadata={'source': 'Data\\\\transformer.pdf', 'page': 9}, page_content=\"equating real and imaginary parts,  \\nR2' =  K2R2 and X 2' = K2X2 . \\nAnd V 2' = KV 2\"),\n",
       " Document(metadata={'source': 'Data\\\\transformer.pdf', 'page': 9}, page_content='The following figure shows the  equivalent  circuit  of transformer  with  secondary  parameters'),\n",
       " Document(metadata={'source': 'Data\\\\transformer.pdf', 'page': 9}, page_content='of transformer  with  secondary  parameters  referred  to'),\n",
       " Document(metadata={'source': 'Data\\\\transformer.pdf', 'page': 9}, page_content='the primary .'),\n",
       " Document(metadata={'source': 'Data\\\\transformer.pdf', 'page': 9}, page_content='Now, as the values of winding resistance and leakage reactance are so small that, V 1 and E 1 can'),\n",
       " Document(metadata={'source': 'Data\\\\transformer.pdf', 'page': 9}, page_content='reactance are so small that, V 1 and E 1 can be assumed to'),\n",
       " Document(metadata={'source': 'Data\\\\transformer.pdf', 'page': 9}, page_content='be equal. Therefore, the exciting current drawn by the parallel combination of   R0 and X 0 would'),\n",
       " Document(metadata={'source': 'Data\\\\transformer.pdf', 'page': 9}, page_content='by the parallel combination of   R0 and X 0 would not affect'),\n",
       " Document(metadata={'source': 'Data\\\\transformer.pdf', 'page': 9}, page_content='significantly, if we move it to the input terminals as shown in the figure below.'),\n",
       " Document(metadata={'source': 'Data\\\\transformer.pdf', 'page': 10}, page_content=\"Now, let R 1 + R 2' = R'eq   and X 1 + X 2' = X'eq\"),\n",
       " Document(metadata={'source': 'Data\\\\transformer.pdf', 'page': 10}, page_content='Then the  equivalent  circuit  of transformer  becomes as shown in the figure below'),\n",
       " Document(metadata={'source': 'Data\\\\transformer.pdf', 'page': 10}, page_content='Approximate equivalent circuit of transformer'),\n",
       " Document(metadata={'source': 'Data\\\\transformer.pdf', 'page': 10}, page_content='If only voltage regulation is to be calculated, then even the whole excitation branch (parallel'),\n",
       " Document(metadata={'source': 'Data\\\\transformer.pdf', 'page': 10}, page_content='then even the whole excitation branch (parallel combination of R0'),\n",
       " Document(metadata={'source': 'Data\\\\transformer.pdf', 'page': 10}, page_content='and X0) can be neglected. Then the equivalent circuit becomes as shown in the figure below'),\n",
       " Document(metadata={'source': 'Data\\\\transformer.pdf', 'page': 10}, page_content='Transformer on No Load Condition'),\n",
       " Document(metadata={'source': 'Data\\\\transformer.pdf', 'page': 10}, page_content='When the transformer is operating at no load, the secondary winding i s open -circuited, which'),\n",
       " Document(metadata={'source': 'Data\\\\transformer.pdf', 'page': 10}, page_content='the secondary winding i s open -circuited, which means there is no'),\n",
       " Document(metadata={'source': 'Data\\\\transformer.pdf', 'page': 10}, page_content='load on the secondary side of the transformer and, therefore, current in the secondary will be'),\n",
       " Document(metadata={'source': 'Data\\\\transformer.pdf', 'page': 10}, page_content='and, therefore, current in the secondary will be zero. While'),\n",
       " Document(metadata={'source': 'Data\\\\transformer.pdf', 'page': 10}, page_content='primary winding carries a small current I 0 called no -load current which is  2 to 10% of the rated'),\n",
       " Document(metadata={'source': 'Data\\\\transformer.pdf', 'page': 10}, page_content='no -load current which is  2 to 10% of the rated current .'),\n",
       " Document(metadata={'source': 'Data\\\\transformer.pdf', 'page': 10}, page_content='This current is responsible for supplying the iron losses (hysteresis and eddy current losses) in'),\n",
       " Document(metadata={'source': 'Data\\\\transformer.pdf', 'page': 10}, page_content='losses (hysteresis and eddy current losses) in the core and a'),\n",
       " Document(metadata={'source': 'Data\\\\transformer.pdf', 'page': 10}, page_content='very small amount of copper losses in the primary winding. The angle of lag depends upon the losses'),\n",
       " Document(metadata={'source': 'Data\\\\transformer.pdf', 'page': 10}, page_content='winding. The angle of lag depends upon the losses in the'),\n",
       " Document(metadata={'source': 'Data\\\\transformer.pdf', 'page': 10}, page_content='transformer. The power fact or is very low and varies from  0.1 to 0.15 .'),\n",
       " Document(metadata={'source': 'Data\\\\transformer.pdf', 'page': 11}, page_content='The no -load current consists of two \\ncomponents:  \\n• Reactive or magnetizing component I m'),\n",
       " Document(metadata={'source': 'Data\\\\transformer.pdf', 'page': 11}, page_content='(It is in quadrature with the applied voltage V 1. It produces flux in the core and does not'),\n",
       " Document(metadata={'source': 'Data\\\\transformer.pdf', 'page': 11}, page_content='V 1. It produces flux in the core and does not consume any power).'),\n",
       " Document(metadata={'source': 'Data\\\\transformer.pdf', 'page': 11}, page_content='• Active or power component I w, also know as a working component'),\n",
       " Document(metadata={'source': 'Data\\\\transformer.pdf', 'page': 11}, page_content='(It is in phase with the applied voltage V 1. It supplies the iron losses and a small amount of'),\n",
       " Document(metadata={'source': 'Data\\\\transformer.pdf', 'page': 11}, page_content='It supplies the iron losses and a small amount of primary copper'),\n",
       " Document(metadata={'source': 'Data\\\\transformer.pdf', 'page': 11}, page_content='loss).  \\nThe following steps are given below to draw the phasor diagram:'),\n",
       " Document(metadata={'source': 'Data\\\\transformer.pdf', 'page': 11}, page_content='1. The function  of the magnetizing component is to produce the magnetizing flux, and thus, it will'),\n",
       " Document(metadata={'source': 'Data\\\\transformer.pdf', 'page': 11}, page_content='produce the magnetizing flux, and thus, it will be in phase'),\n",
       " Document(metadata={'source': 'Data\\\\transformer.pdf', 'page': 11}, page_content='with the flux.'),\n",
       " Document(metadata={'source': 'Data\\\\transformer.pdf', 'page': 11}, page_content='2. Induced emf in the primary and the secondary winding lags the flux ϕ by 90 degrees.'),\n",
       " Document(metadata={'source': 'Data\\\\transformer.pdf', 'page': 11}, page_content='3. The primary copper loss is neglected, and secondary current l osses are zero as  \\nI2 = 0.'),\n",
       " Document(metadata={'source': 'Data\\\\transformer.pdf', 'page': 11}, page_content='Therefore, the current I 0 lags behind the voltage vector V 1 by an angle ϕ 0 called the no -load'),\n",
       " Document(metadata={'source': 'Data\\\\transformer.pdf', 'page': 11}, page_content='vector V 1 by an angle ϕ 0 called the no -load power factor angle'),\n",
       " Document(metadata={'source': 'Data\\\\transformer.pdf', 'page': 11}, page_content='and is shown in the phasor diagram above.'),\n",
       " Document(metadata={'source': 'Data\\\\transformer.pdf', 'page': 11}, page_content='4. The applied voltage V 1 is drawn equal and opposite to the induced emf E 1 because the'),\n",
       " Document(metadata={'source': 'Data\\\\transformer.pdf', 'page': 11}, page_content='and opposite to the induced emf E 1 because the difference between the'),\n",
       " Document(metadata={'source': 'Data\\\\transformer.pdf', 'page': 11}, page_content='two, at no load, is negligible.'),\n",
       " Document(metadata={'source': 'Data\\\\transformer.pdf', 'page': 11}, page_content='5. Active component I w is drawn in phase with the applied voltage V 1.'),\n",
       " Document(metadata={'source': 'Data\\\\transformer.pdf', 'page': 11}, page_content='6. The phasor sum of magnetizing current I m and the working current I w gives the no -load current'),\n",
       " Document(metadata={'source': 'Data\\\\transformer.pdf', 'page': 11}, page_content='working current I w gives the no -load current I 0.'),\n",
       " Document(metadata={'source': 'Data\\\\transformer.pdf', 'page': 12}, page_content='7. From the phasor  diagram drawn above, the following \\nconclusions are made'),\n",
       " Document(metadata={'source': 'Data\\\\transformer.pdf', 'page': 12}, page_content='conclusions are made  \\nTransformer On Load Condition'),\n",
       " Document(metadata={'source': 'Data\\\\transformer.pdf', 'page': 12}, page_content='When the transformer is on the loaded condition, the secondary of the transformer is connected to'),\n",
       " Document(metadata={'source': 'Data\\\\transformer.pdf', 'page': 12}, page_content='the secondary of the transformer is connected to load. The'),\n",
       " Document(metadata={'source': 'Data\\\\transformer.pdf', 'page': 12}, page_content='load can be resistive, inductive or capacitive. The current I2 flows through the secondary winding'),\n",
       " Document(metadata={'source': 'Data\\\\transformer.pdf', 'page': 12}, page_content='current I2 flows through the secondary winding of the'),\n",
       " Document(metadata={'source': 'Data\\\\transformer.pdf', 'page': 12}, page_content='transformer. The magnitude of the secondary current depends on the terminal voltage V 2 and the'),\n",
       " Document(metadata={'source': 'Data\\\\transformer.pdf', 'page': 12}, page_content='depends on the terminal voltage V 2 and the load'),\n",
       " Document(metadata={'source': 'Data\\\\transformer.pdf', 'page': 12}, page_content='impedance. The phase angle between the secondary current and voltage depends on the nature of the'),\n",
       " Document(metadata={'source': 'Data\\\\transformer.pdf', 'page': 12}, page_content='current and voltage depends on the nature of the load.'),\n",
       " Document(metadata={'source': 'Data\\\\transformer.pdf', 'page': 12}, page_content='Operation of the Transformer on Load Condition'),\n",
       " Document(metadata={'source': 'Data\\\\transformer.pdf', 'page': 12}, page_content='The Operation of the Transformer on Load Condition is explained below:'),\n",
       " Document(metadata={'source': 'Data\\\\transformer.pdf', 'page': 12}, page_content='• When the secondary of the transformer is kept open, it draws the no -load current from the main'),\n",
       " Document(metadata={'source': 'Data\\\\transformer.pdf', 'page': 12}, page_content='open, it draws the no -load current from the main supply. The no -'),\n",
       " Document(metadata={'source': 'Data\\\\transformer.pdf', 'page': 12}, page_content='load current induces the magnetomotive force N 0I0 and this force set up the flux Φ in the core of'),\n",
       " Document(metadata={'source': 'Data\\\\transformer.pdf', 'page': 12}, page_content='and this force set up the flux Φ in the core of the'),\n",
       " Document(metadata={'source': 'Data\\\\transformer.pdf', 'page': 12}, page_content='transformer. The circuit of the transformer at no load condition is shown in the figure below:'),\n",
       " Document(metadata={'source': 'Data\\\\transformer.pdf', 'page': 13}, page_content='•'),\n",
       " Document(metadata={'source': 'Data\\\\transformer.pdf', 'page': 13}, page_content='o When the load is connected to the secondary of the transformer, I 2 current flows through their'),\n",
       " Document(metadata={'source': 'Data\\\\transformer.pdf', 'page': 13}, page_content='the transformer, I 2 current flows through their secondary'),\n",
       " Document(metadata={'source': 'Data\\\\transformer.pdf', 'page': 13}, page_content='winding. The secondary current induces the magnetomotive force N 2I2 on the secondary winding of th'),\n",
       " Document(metadata={'source': 'Data\\\\transformer.pdf', 'page': 13}, page_content='force N 2I2 on the secondary winding of th e'),\n",
       " Document(metadata={'source': 'Data\\\\transformer.pdf', 'page': 13}, page_content='transformer. This force set up the flux φ 2 in the transformer core. The flux φ 2 opposes the flux'),\n",
       " Document(metadata={'source': 'Data\\\\transformer.pdf', 'page': 13}, page_content='transformer core. The flux φ 2 opposes the flux φ, according'),\n",
       " Document(metadata={'source': 'Data\\\\transformer.pdf', 'page': 13}, page_content='to Lenz’s law .'),\n",
       " Document(metadata={'source': 'Data\\\\transformer.pdf', 'page': 13}, page_content='▪ As the flux φ 2 opposes the flux φ, the resultant flux of the transformer decreases and this flux'),\n",
       " Document(metadata={'source': 'Data\\\\transformer.pdf', 'page': 13}, page_content='flux of the transformer decreases and this flux reduces the'),\n",
       " Document(metadata={'source': 'Data\\\\transformer.pdf', 'page': 13}, page_content='induced EMF E 1. Thus, the strength of the V 1 is more than E 1 and an additional primary current'),\n",
       " Document(metadata={'source': 'Data\\\\transformer.pdf', 'page': 13}, page_content='more than E 1 and an additional primary current I’ 1 drawn from'),\n",
       " Document(metadata={'source': 'Data\\\\transformer.pdf', 'page': 13}, page_content='the main supply.'),\n",
       " Document(metadata={'source': 'Data\\\\transformer.pdf', 'page': 13}, page_content='The additional current is used for restoring the original value of the flux in the core of the'),\n",
       " Document(metadata={'source': 'Data\\\\transformer.pdf', 'page': 13}, page_content='the original value of the flux in the core of the transformer so that'),\n",
       " Document(metadata={'source': 'Data\\\\transformer.pdf', 'page': 13}, page_content='V1 = E 1. The primary current I’ 1 is in phase opposition with the secondary current I 2. Thus, it'),\n",
       " Document(metadata={'source': 'Data\\\\transformer.pdf', 'page': 13}, page_content='with the secondary current I 2. Thus, it is called'),\n",
       " Document(metadata={'source': 'Data\\\\transformer.pdf', 'page': 13}, page_content='the primary counter -balancing current .'),\n",
       " Document(metadata={'source': 'Data\\\\transformer.pdf', 'page': 13}, page_content='▪ The additional current I’ 1 induces the magnetomotive force N 1I’1. And this force set up the'),\n",
       " Document(metadata={'source': 'Data\\\\transformer.pdf', 'page': 13}, page_content='force N 1I’1. And this force set up the flux φ’ 1. The'),\n",
       " Document(metadata={'source': 'Data\\\\transformer.pdf', 'page': 13}, page_content='direction of the flux is the same as that of the φ and it cancels the flux φ 2 which induces'),\n",
       " Document(metadata={'source': 'Data\\\\transformer.pdf', 'page': 13}, page_content='the φ and it cancels the flux φ 2 which induces because of the MMF'),\n",
       " Document(metadata={'source': 'Data\\\\transformer.pdf', 'page': 13}, page_content='N2I2'),\n",
       " Document(metadata={'source': 'Data\\\\transformer.pdf', 'page': 14}, page_content='Now, N 1I1’ = N 2I2 \\nTherefore,'),\n",
       " Document(metadata={'source': 'Data\\\\transformer.pdf', 'page': 14}, page_content='• The phase difference between V 1 and I 1 gives the power factor angle ϕ 1 of the primary side of'),\n",
       " Document(metadata={'source': 'Data\\\\transformer.pdf', 'page': 14}, page_content='the power factor angle ϕ 1 of the primary side of the transformer.'),\n",
       " Document(metadata={'source': 'Data\\\\transformer.pdf', 'page': 14}, page_content='• The power factor of the secondary  side depends upon the type of load connected to the'),\n",
       " Document(metadata={'source': 'Data\\\\transformer.pdf', 'page': 14}, page_content='depends upon the type of load connected to the transformer.'),\n",
       " Document(metadata={'source': 'Data\\\\transformer.pdf', 'page': 14}, page_content='• If the load is inductive as shown in the above phasor  diagram, the power factor will be lagging,'),\n",
       " Document(metadata={'source': 'Data\\\\transformer.pdf', 'page': 14}, page_content='diagram, the power factor will be lagging, and if the load is'),\n",
       " Document(metadata={'source': 'Data\\\\transformer.pdf', 'page': 14}, page_content='capacitive, the power factor will be leading. The total primary current I 1 is the vector sum of'),\n",
       " Document(metadata={'source': 'Data\\\\transformer.pdf', 'page': 14}, page_content='total primary current I 1 is the vector sum of the currents I 0 and'),\n",
       " Document(metadata={'source': 'Data\\\\transformer.pdf', 'page': 14}, page_content='I1’. i.e \\n \\nPhasor Diagram of Transformer on Inductive Load'),\n",
       " Document(metadata={'source': 'Data\\\\transformer.pdf', 'page': 14}, page_content='The phasor diagram  of the actual transformer when it is loaded inductively is shown below:'),\n",
       " Document(metadata={'source': 'Data\\\\transformer.pdf', 'page': 15}, page_content='Phasor Diagram of the Transformer on Inductive Load  \\nSteps to draw the phasor diagram'),\n",
       " Document(metadata={'source': 'Data\\\\transformer.pdf', 'page': 15}, page_content='Steps to draw the phasor diagram  \\n• Take flux ϕ, a reference'),\n",
       " Document(metadata={'source': 'Data\\\\transformer.pdf', 'page': 15}, page_content='• Take flux ϕ, a reference  \\n• Induces emf E 1 and E 2 lags the flux by 90 degrees.'),\n",
       " Document(metadata={'source': 'Data\\\\transformer.pdf', 'page': 15}, page_content='• The component of the applied voltage to the primary equal and opposite to induced emf in the'),\n",
       " Document(metadata={'source': 'Data\\\\transformer.pdf', 'page': 15}, page_content='primary equal and opposite to induced emf in the primary winding.'),\n",
       " Document(metadata={'source': 'Data\\\\transformer.pdf', 'page': 15}, page_content='E1 is represented by V 1’. \\n• Current I 0 lags the voltage V 1’ by 90 degrees.'),\n",
       " Document(metadata={'source': 'Data\\\\transformer.pdf', 'page': 15}, page_content='• The power factor of the load is lagging. Therefore current I 2 is drawn lagging E 2 by an angle ϕ'),\n",
       " Document(metadata={'source': 'Data\\\\transformer.pdf', 'page': 15}, page_content='current I 2 is drawn lagging E 2 by an angle ϕ 2.'),\n",
       " Document(metadata={'source': 'Data\\\\transformer.pdf', 'page': 15}, page_content='• The resistance and the leakage reactance of the windings result in a voltage drop, and hence'),\n",
       " Document(metadata={'source': 'Data\\\\transformer.pdf', 'page': 15}, page_content='the windings result in a voltage drop, and hence secondary terminal'),\n",
       " Document(metadata={'source': 'Data\\\\transformer.pdf', 'page': 15}, page_content='voltage V 2 is the phase difference of E 2 and voltage drop.  \\nV2 = E 2 – voltage drops'),\n",
       " Document(metadata={'source': 'Data\\\\transformer.pdf', 'page': 15}, page_content='V2 = E 2 – voltage drops  \\nI2 R2 is in phase with I 2 and I2X2 is in quadrature with I 2.'),\n",
       " Document(metadata={'source': 'Data\\\\transformer.pdf', 'page': 15}, page_content='• The total current flowing in the primary winding is the phasor sum of I 1’ and I 0.'),\n",
       " Document(metadata={'source': 'Data\\\\transformer.pdf', 'page': 15}, page_content='• Primary applied voltage V 1 is the phasor sum of V 1’ and the voltage drop in the primary'),\n",
       " Document(metadata={'source': 'Data\\\\transformer.pdf', 'page': 15}, page_content='sum of V 1’ and the voltage drop in the primary winding.'),\n",
       " Document(metadata={'source': 'Data\\\\transformer.pdf', 'page': 15}, page_content='• Current I 1’ is drawn equal and opposite to t he current I 2 \\nV1 = V 1’ + voltage drop'),\n",
       " Document(metadata={'source': 'Data\\\\transformer.pdf', 'page': 15}, page_content='V1 = V 1’ + voltage drop  \\nI1R1 is in phase with I 1 and I 1XI is in quadrature with I 1.'),\n",
       " Document(metadata={'source': 'Data\\\\transformer.pdf', 'page': 15}, page_content='• The phasor difference between V 1 and I 1 gives the power factor angle ϕ 1 of the primary side of'),\n",
       " Document(metadata={'source': 'Data\\\\transformer.pdf', 'page': 15}, page_content='the power factor angle ϕ 1 of the primary side of the transformer.'),\n",
       " Document(metadata={'source': 'Data\\\\transformer.pdf', 'page': 15}, page_content='• The power factor of the secondary side depends upon the type of load connected to the'),\n",
       " Document(metadata={'source': 'Data\\\\transformer.pdf', 'page': 15}, page_content='depends upon the type of load connected to the transformer.'),\n",
       " Document(metadata={'source': 'Data\\\\transformer.pdf', 'page': 15}, page_content='• If the load is inductive as shown in the above phasor diagram, the power factor will be lagging,'),\n",
       " Document(metadata={'source': 'Data\\\\transformer.pdf', 'page': 15}, page_content='phasor diagram, the power factor will be lagging, and if the load is'),\n",
       " Document(metadata={'source': 'Data\\\\transformer.pdf', 'page': 15}, page_content='capacitive, the power factor will be leading.        Where I 1R1 is the resistive drop in the'),\n",
       " Document(metadata={'source': 'Data\\\\transformer.pdf', 'page': 15}, page_content='Where I 1R1 is the resistive drop in the primary windings'),\n",
       " Document(metadata={'source': 'Data\\\\transformer.pdf', 'page': 15}, page_content='I2X2 is the reactive drop in the secondary winding  \\nSimilarly'),\n",
       " Document(metadata={'source': 'Data\\\\transformer.pdf', 'page': 15}, page_content='Similarly  \\nPhasor Diagram of Transformer on Capacitive Load'),\n",
       " Document(metadata={'source': 'Data\\\\transformer.pdf', 'page': 15}, page_content='The Transformer on the Capacitive  load (leading power factor load) is shown below in the phasor'),\n",
       " Document(metadata={'source': 'Data\\\\transformer.pdf', 'page': 15}, page_content='power factor load) is shown below in the phasor diagram.'),\n",
       " Document(metadata={'source': 'Data\\\\transformer.pdf', 'page': 15}, page_content='Steps to draw the phasor diagram at capacitive load  \\n• Take flux ϕ a reference'),\n",
       " Document(metadata={'source': 'Data\\\\transformer.pdf', 'page': 15}, page_content='• Take flux ϕ a reference  \\n• Induces emf E 1 and E 2 lags the flux by 90 degrees.'),\n",
       " Document(metadata={'source': 'Data\\\\transformer.pdf', 'page': 15}, page_content='• The component of the applied voltage to the primary equal and opposite to induced emf in the'),\n",
       " Document(metadata={'source': 'Data\\\\transformer.pdf', 'page': 15}, page_content='primary equal and opposite to induced emf in the primary winding.'),\n",
       " Document(metadata={'source': 'Data\\\\transformer.pdf', 'page': 15}, page_content='E1 is represented by V 1’. \\n• Current I 0 lags the voltage V 1’ by 90 degrees.'),\n",
       " Document(metadata={'source': 'Data\\\\transformer.pdf', 'page': 15}, page_content='• The power factor of the load is leading. Therefore current I 2 is drawn le ading E 2'),\n",
       " Document(metadata={'source': 'Data\\\\transformer.pdf', 'page': 15}, page_content='• The resistance and the leakage reactance of the windings result in a voltage drop, and hence'),\n",
       " Document(metadata={'source': 'Data\\\\transformer.pdf', 'page': 15}, page_content='the windings result in a voltage drop, and hence secondary terminal'),\n",
       " Document(metadata={'source': 'Data\\\\transformer.pdf', 'page': 15}, page_content='voltage V 2 is the phasor difference of E 2 and voltage drop.  \\nV2 = E 2 – voltage drops'),\n",
       " Document(metadata={'source': 'Data\\\\transformer.pdf', 'page': 15}, page_content='V2 = E 2 – voltage drops  \\nI2 R2 is in phase with I 2 and I 2X2 is in quadrature  with I 2.'),\n",
       " Document(metadata={'source': 'Data\\\\transformer.pdf', 'page': 15}, page_content='• Current I 1’ is drawn equal and opposite to the current I 2'),\n",
       " Document(metadata={'source': 'Data\\\\transformer.pdf', 'page': 16}, page_content='• The total current I 1 flowing in the primary winding is the phasor sum of I 1’ and I 0.'),\n",
       " Document(metadata={'source': 'Data\\\\transformer.pdf', 'page': 16}, page_content='• Primary applied voltage V 1 is the phasor sum of V 1’ and the voltage drop in the primary'),\n",
       " Document(metadata={'source': 'Data\\\\transformer.pdf', 'page': 16}, page_content='sum of V 1’ and the voltage drop in the primary winding.'),\n",
       " Document(metadata={'source': 'Data\\\\transformer.pdf', 'page': 16}, page_content='V1 = V1’ + voltage drop  \\nI1R1 is in phase with I 1 and I 1XI is in quadrature with I 1.'),\n",
       " Document(metadata={'source': 'Data\\\\transformer.pdf', 'page': 16}, page_content='• The phasor difference between V 1 and I 1 gives the power factor angle ϕ 1 of the primary side of'),\n",
       " Document(metadata={'source': 'Data\\\\transformer.pdf', 'page': 16}, page_content='the power factor angle ϕ 1 of the primary side of the transformer.'),\n",
       " Document(metadata={'source': 'Data\\\\transformer.pdf', 'page': 16}, page_content='• The power factor of the secondary side depends upon the type of l oad connected to the'),\n",
       " Document(metadata={'source': 'Data\\\\transformer.pdf', 'page': 16}, page_content='depends upon the type of l oad connected to the transformer.'),\n",
       " Document(metadata={'source': 'Data\\\\transformer.pdf', 'page': 16}, page_content='This is all about the phasor diagram on various loads.'),\n",
       " Document(metadata={'source': 'Data\\\\transformer.pdf', 'page': 16}, page_content='Phasor Diagram of the Transformer on Capacitive Load')]"
      ]
     },
     "execution_count": 44,
     "metadata": {},
     "output_type": "execute_result"
    }
   ],
   "source": [
    "new_docs"
   ]
  },
  {
   "cell_type": "code",
   "execution_count": 45,
   "metadata": {},
   "outputs": [
    {
     "data": {
      "text/plain": [
       "['Transformer',\n",
       " 'electrical  transformer  is a static  electrical  machine  which transforms electrical power from',\n",
       " 'machine  which transforms electrical power from one circuit to',\n",
       " 'another circuit, without changing the frequency. Transformer can increase or decrease the voltage',\n",
       " 'Transformer can increase or decrease the voltage with',\n",
       " 'corresponding decrease or increase in current.  \\nWorking principle of transformer',\n",
       " 'The basic  principle  behind  working  of a transformer  is the phenomenon of mutual induction',\n",
       " 'is the phenomenon of mutual induction between two',\n",
       " 'windings linked by common magnetic flux. The figure at right shows the simplest form of a',\n",
       " 'The figure at right shows the simplest form of a transformer.',\n",
       " 'Basically a transformer consists of two inductive coils; primary winding and secondary winding. The',\n",
       " 'coils; primary winding and secondary winding. The coils are',\n",
       " 'electrically separated but magnetically linked to ea ch other. When, primary winding is connected',\n",
       " 'ea ch other. When, primary winding is connected to a source of',\n",
       " 'alternating voltage, alternating  magnetic  flux is produced  around  the winding . The core',\n",
       " 'flux is produced  around  the winding . The core provides magnetic  path',\n",
       " 'for the flux, to get linked with the secondary winding. Most of the flux gets linked with the',\n",
       " 'winding. Most of the flux gets linked with the secondary winding',\n",
       " \"which is called as 'useful flux' or main 'flux', and the flux which does not get linked with\",\n",
       " 'and the flux which does not get linked with secondary winding is',\n",
       " \"called as 'leakage flux' .  As the flux produced is alternating (the direction of it is\",\n",
       " 'produced is alternating (the direction of it is continuously changing), EMF',\n",
       " \"gets induced in the secondary winding according to  Faraday's  law of electrom agnetic  induction .\",\n",
       " \"Faraday's  law of electrom agnetic  induction . This emf is\",\n",
       " \"called 'mutually induced emf', and the frequency of mutually induced emf is same as that of\",\n",
       " 'of mutually induced emf is same as that of supplied emf. If the',\n",
       " 'secondary winding is closed circuit, then mutually induced current flows through it, and hence the',\n",
       " 'induced current flows through it, and hence the electrical',\n",
       " 'energy is transferred from one circuit (primary) to another circuit (secondary).',\n",
       " 'Basic construction of transformer',\n",
       " 'Basically a transformer consists of two inductive windings and a laminated steel core. The coils',\n",
       " 'windings and a laminated steel core. The coils are insulated',\n",
       " 'from each other as well as from  the steel core. A transformer may also consist of a container for',\n",
       " 'A transformer may also consist of a container for winding and',\n",
       " 'core assembly (called as tank), suitable bushings to take our the terminals, oil conservator to',\n",
       " 'to take our the terminals, oil conservator to provide oil in the',\n",
       " 'transformer tank for cooling purposes etc. The figure at left illustrates the basic construction of',\n",
       " 'at left illustrates the basic construction of a transformer.',\n",
       " 'In all types of transformers, core is constructed by assembling (stacking) laminated sheets of',\n",
       " 'by assembling (stacking) laminated sheets of steel, with',\n",
       " 'minimum air -gap between them (to achieve continuous magnetic path). The steel used is having hi gh',\n",
       " 'magnetic path). The steel used is having hi gh silicon',\n",
       " 'content and sometimes heat treated, to provide high permeability and low hysteresis loss. Laminated',\n",
       " 'permeability and low hysteresis loss. Laminated sheets of',\n",
       " 'steel are used to reduce eddy current loss. The sheets are cut in the shape as E,I and L. To avoid',\n",
       " 'are cut in the shape as E,I and L. To avoid high reluctance',\n",
       " 'at joints, laminatio ns are stacked by alternating the sides of joint. That is, if joints of first',\n",
       " 'the sides of joint. That is, if joints of first sheet assembly are at',\n",
       " 'front face, the joints of following assemble are kept at back face.  \\n \\n \\nTypes of transformers',\n",
       " 'Transformers can be classified on different basis, like types of construction, types of cooling',\n",
       " 'like types of construction, types of cooling etc.',\n",
       " '(A) On the basis  of construction , transformers can be classified into two types as;',\n",
       " '(i) Core type transformer and (ii) Shell type transformer, which are described below.',\n",
       " '(i) Core type transformer',\n",
       " 'In core typ e transformer, windings are cylindrical former wound, mounted on   the core limbs as',\n",
       " 'former wound, mounted on   the core limbs as shown in the',\n",
       " 'figure above. The cylindrical coils have different layers and each layer is insulated from each',\n",
       " 'layers and each layer is insulated from each other. Materials',\n",
       " 'like paper, cloth or mica can be used for insu lation. Low voltage windings are placed nearer to',\n",
       " 'lation. Low voltage windings are placed nearer to the core, as they',\n",
       " 'are easier to insulate.',\n",
       " '(ii) Shell type transformer',\n",
       " 'The coils are former wound and mounted in layers stacked with insulation between them. A shell type',\n",
       " 'with insulation between them. A shell type',\n",
       " 'transformer may have simple rectangu lar form (as shown in above fig), or   it may have a',\n",
       " 'form (as shown in above fig), or   it may have a distributed form.',\n",
       " '(B) On the basis of their purpose',\n",
       " '1. Step up transformer: Voltage increases (with subsequent decrease in current) at secondary.',\n",
       " '2. Step down transformer: Voltage decreases (with subsequent increase in current) at secondary.',\n",
       " '(C) On the basis of type of supply  \\n1. Single phase transformer  \\n2. Three phase transformer',\n",
       " '2. Three phase transformer  \\n3.  \\n(D) On the basis of their use',\n",
       " '1. Power transformer: Used in  transmission  network , high rating',\n",
       " '2. Distribution transformer: Used in  distribution  network , comparatively lower rating than that',\n",
       " 'network , comparatively lower rating than that of power',\n",
       " 'transformers.',\n",
       " '3. Instrument transformer: Used in relay and protection purpose in different instrume nts in',\n",
       " 'protection purpose in different instrume nts in industries',\n",
       " '▪  Current transformer (CT)  \\n▪ Potential transformer (PT)  \\n▪',\n",
       " '▪ Potential transformer (PT)  \\n▪  \\nOpen circuit and Short circuit Test on transformer',\n",
       " 'These two  transformer  tests are performed to find the parameters of  equivalent  circui t of',\n",
       " 'find the parameters of  equivalent  circui t of transformer  and losses',\n",
       " 'of the transformer . Open  circuit  test and short  circuit  test on transformer  are very',\n",
       " 'and short  circuit  test on transformer  are very economical and convenient',\n",
       " 'because they are perfor med without actually loading of the transformer.',\n",
       " 'Open circuit or No load test on Transformer',\n",
       " \"Open circuit test or no load test on a transformer is performed to determine 'no load loss (core\",\n",
       " \"is performed to determine 'no load loss (core loss)' and 'no load\",\n",
       " \"current I 0'. The  circuit  diagram  for open  circuit  test is shown in the figure below.\",\n",
       " 'Usually high voltage (HV) winding is kept open and the low voltage (LV) winding is connected to its',\n",
       " 'the low voltage (LV) winding is connected to its normal',\n",
       " 'supply. A wattmeter (W), ammeter (A) and voltmeter (V) are connected to the LV winding as shown in',\n",
       " '(V) are connected to the LV winding as shown in the',\n",
       " 'figure. Now, applied voltage is slowly increas ed from zero to normal rated value of the LV side',\n",
       " 'ed from zero to normal rated value of the LV side with the help of',\n",
       " 'a variac. When the applied voltage reaches to the rated value of the LV winding, readings from all',\n",
       " 'rated value of the LV winding, readings from all the three',\n",
       " 'instruments are taken.',\n",
       " 'The ammeter reading gives the no load current I 0. As I 0 itself is very small, the voltage drops',\n",
       " '0. As I 0 itself is very small, the voltage drops due to this current',\n",
       " 'can be neglected.',\n",
       " 'The input power is indicated by the wattmeter (W). And as the other side of transformer is open',\n",
       " '(W). And as the other side of transformer is open circuited, there',\n",
       " 'is no output power. Hence, this input power only consists of core losses and copper losses. As',\n",
       " 'consists of core losses and copper losses. As described above,',\n",
       " 'no-load current is so small that these copper losses can be neglected. Hence, now the input power',\n",
       " 'can be neglected. Hence, now the input power is almost',\n",
       " 'equal to the core losses. Thus, the wattmeter reading gives the core losses of the transformer.',\n",
       " 'Someti mes, a high resistance voltmeter is connected across the HV winding. Though, a voltmeter is',\n",
       " 'across the HV winding. Though, a voltmeter is connected,',\n",
       " 'HV winding can be treated as open circuit as the current through the voltmeter is negligibly small.',\n",
       " 'through the voltmeter is negligibly small. This helps in',\n",
       " 'to find  voltage  transformation  ratio (K).',\n",
       " 'The two components of no load current can be given as,  \\n \\nIμ = I0sinΦ 0   and    Iw = I0cosΦ 0.',\n",
       " 'cosΦ 0 (no load power factor) = W / (V 1I0). ... (W = wattmeter reading)',\n",
       " 'From this, shunt parameters of equivalent circuit parameters of  equivalent  circuit  of',\n",
       " 'circuit parameters of  equivalent  circuit  of transformer  (X0 and R 0) can',\n",
       " 'be calculated as  \\n \\nX0 = V 1/Iμ  and  R0 = V 1/Iw.',\n",
       " 'X0 = V 1/Iμ  and  R0 = V 1/Iw. \\n \\n(These values are referring to LV side of the transformer.)',\n",
       " 'Hence, it is seen that  open  circuit  test gives core losses of transformer and shunt parameters',\n",
       " 'core losses of transformer and shunt parameters of the equivalent',\n",
       " 'circuit.  \\n \\nShort circuit or Impedance test on Transformer',\n",
       " 'The connection  diagram  for short  circuit  test or impedance test on transformer is as shown in',\n",
       " 'or impedance test on transformer is as shown in the figure',\n",
       " 'below. The LV side of transformer is short circuited and wattmeter (W), voltmere (V) and ammeter',\n",
       " 'and wattmeter (W), voltmere (V) and ammeter (A) are',\n",
       " 'connected on the HV side of the transformer. Volta ge is applied to the HV side and increased from',\n",
       " 'ge is applied to the HV side and increased from the zero',\n",
       " 'until the ammeter reading equals the rated current. All the readings are taken at this rated',\n",
       " 'current. All the readings are taken at this rated current.',\n",
       " 'The ammeter reading gives primary equivalent of full load current (I sc).',\n",
       " 'The voltage applied for full load current is very small as compared to rated voltage. Hence, core',\n",
       " 'small as compared to rated voltage. Hence, core loss due to',\n",
       " 'small applied voltage can be neglected. Thus, the wattmeter reading can be taken as copper loss in',\n",
       " 'wattmeter reading can be taken as copper loss in the',\n",
       " 'transformer.',\n",
       " 'Therefore, W = I sc2Req....... (where R eq is the equivalent resistance of transformer)',\n",
       " 'Zeq = V sc/Isc.',\n",
       " 'Therefore, equivalent reactance of transformer can be calculated from the formula   Zeq2 = R eq2 +',\n",
       " 'be calculated from the formula   Zeq2 = R eq2 + X eq2.',\n",
       " 'These, values are referred to the HV side of the transformer.',\n",
       " 'Hence, it is seen that the shor t circuit test gives copper losses of transformer and approximate',\n",
       " 'copper losses of transformer and approximate equivalent',\n",
       " 'resistance and reactance of the transformer.  \\n \\nWhy Transformers are rated in kVA?',\n",
       " 'From the above transformer tests, it can be seen that  Cu loss of a transformer  depends on',\n",
       " 'seen that  Cu loss of a transformer  depends on current, and',\n",
       " 'iron loss depends on voltage. Thus, total transformer loss depends on volt -ampere (VA). It does',\n",
       " 'loss depends on volt -ampere (VA). It does not',\n",
       " 'depend on the p hase angle between voltage and current, i.e. transformer loss is independent of',\n",
       " 'current, i.e. transformer loss is independent of load',\n",
       " 'power factor. This is the  reason  that transformers  are rated  in kVA . \\nLosses in transformer',\n",
       " 'Losses in transformer',\n",
       " \"In any  electrical  machine , 'loss' can be defined as the difference between input power and\",\n",
       " 'defined as the difference between input power and output power.',\n",
       " 'An electrical  transformer  is an static  device , hence mechanical losses (like windage or',\n",
       " 'device , hence mechanical losses (like windage or friction losses) are absent',\n",
       " 'in it. A transformer only consists of electrical losses (iron losses and copper losses).',\n",
       " 'losses (iron losses and copper losses). Transformer losses are',\n",
       " 'similar to  losses  in a DC machine , except that transformers do not have mechanical losses.',\n",
       " 'Losses  in transformer  are explained below - \\n \\n(i) Core losses or Iron losses',\n",
       " 'Eddy current loss and hysteresis los s depend upon the magnetic properties of the material used for',\n",
       " 'the magnetic properties of the material used for the',\n",
       " 'construction of core. Hence these losses are also known as  core losses  or iron losses .',\n",
       " '▪ Hysteresis  loss in transformer : Hysteresis loss is due to reversal of magnetization in the',\n",
       " 'loss is due to reversal of magnetization in the transformer core.',\n",
       " 'This loss depends upon the volume and grade of the iron, frequency of magnetic reversals and value',\n",
       " 'iron, frequency of magnetic reversals and value of flux',\n",
       " 'density. It can be given by, Steinmetz formula:  \\nWh= ηB max1.6fV (watts)',\n",
       " 'Wh= ηB max1.6fV (watts)  \\nwhere,   η = Steinmetz hysteresis constant',\n",
       " 'where,   η = Steinmetz hysteresis constant  \\n             V = volume of the core in m3',\n",
       " '▪ Eddy  current  loss in transformer : In transformer, AC current is supplied to the primary',\n",
       " 'AC current is supplied to the primary winding which',\n",
       " 'sets up alternating magnetizing flux. When this flux links with secondary winding, it produces',\n",
       " 'flux links with secondary winding, it produces induced emf',\n",
       " 'in it. But some part of this flux also gets linked with other conducting parts like steel core or',\n",
       " 'with other conducting parts like steel core or iron body or',\n",
       " 'the transformer, which will result in induced emf in those parts, causing small circulating current',\n",
       " 'in those parts, causing small circulating current in them.',\n",
       " 'This current is called as eddy current. Due to these eddy currents, some energy will be dissipated',\n",
       " 'eddy currents, some energy will be dissipated in the form',\n",
       " 'of heat. \\n (ii) Copper loss in transformer',\n",
       " 'Copper loss is due to ohmic resistance of the transformer windings.   Copper loss for the primary',\n",
       " 'windings.   Copper loss for the primary winding is',\n",
       " 'I12R1 and for secondary winding is I 22R2. Where, I 1 and I 2 are current in primary and secondary',\n",
       " 'I 1 and I 2 are current in primary and secondary winding',\n",
       " 'respec tively, R 1 and R 2 are the resistances of primary and secondary winding respectively. It is',\n",
       " 'primary and secondary winding respectively. It is clear that Cu',\n",
       " 'loss is proportional to square of the current, and current depends on the load. Hence copper loss',\n",
       " 'current depends on the load. Hence copper loss in transformer',\n",
       " 'varies with the load.  \\n \\nEfficiency of T ransformer',\n",
       " 'Just like any other electrical machine,  efficiency  of a transformer  can be defined as the output',\n",
       " 'of a transformer  can be defined as the output power divided',\n",
       " 'by the input power. That is   efficiency  = output  / input  .',\n",
       " 'Transformers are the most highly efficient electrical devices. Most of the transformers have full',\n",
       " 'devices. Most of the transformers have full load efficiency',\n",
       " 'between 95% to 98.5% . As a transformer being highly efficient, output and input are having nearly',\n",
       " 'efficient, output and input are having nearly same value,',\n",
       " 'and hence it is impractical to measure the efficiency of transformer by using output / input. A',\n",
       " 'of transformer by using output / input. A better  method to',\n",
       " 'find efficiency of a transformer is using,  efficiency  = (input  - losses)  / input  = 1 - (losses',\n",
       " '= (input  - losses)  / input  = 1 - (losses  / input).',\n",
       " 'Condition for maximum efficiency  \\nLet, \\nCopper loss = I12R1  \\nIron loss = Wi',\n",
       " 'Hence,  efficiency  of a transformer  will be maximum when copper lo ss and iron losses are equal.',\n",
       " 'That is Copper loss = Iron loss.  \\nAll day efficiency of transformer',\n",
       " 'As we have seen above, ordinary or commercial efficiency of a transformer can be given as',\n",
       " 'But in some types of transformers, their performance can not be judged by this efficiency. For',\n",
       " 'can not be judged by this efficiency. For example,',\n",
       " 'distribution transformers have their primaries energized all the time. But, their secondaries',\n",
       " 'energized all the time. But, their secondaries supply little load all',\n",
       " 'no-load most of the time during day  (as residential use of electricity is observed mostly during',\n",
       " 'use of electricity is observed mostly during evening till',\n",
       " 'midnight).',\n",
       " 'That is, when secondaries of transformer are not supplying any load (or supplying only little',\n",
       " 'not supplying any load (or supplying only little load), then only',\n",
       " 'core losses of transformer are considerable and copper loss es are absent (or very little). Copper',\n",
       " 'loss es are absent (or very little). Copper losses are',\n",
       " 'considerable only when transformers are loaded. Thus, for such transformers copper losses are',\n",
       " 'Thus, for such transformers copper losses are relatively less',\n",
       " 'important.   The performance of such transformers is compared on the basis of energy consumed in',\n",
       " 'is compared on the basis of energy consumed in one day.',\n",
       " 'All day efficiency  of a transformer  is always less than ordinary efficiency of it',\n",
       " 'EMF equation of a transformer and Voltage Transformation Ratio',\n",
       " 'In a transf ormer , source of alternating current is applied to the primary winding. Due to this,',\n",
       " 'is applied to the primary winding. Due to this, the current in the',\n",
       " 'primary winding (called as magnetizing current) produces alternating flux in the core of',\n",
       " 'current) produces alternating flux in the core of transformer. This',\n",
       " 'alternating flux gets linked with the secondary winding, and because of the phenomenon of  mutual',\n",
       " 'and because of the phenomenon of  mutual  induction  an',\n",
       " 'emf gets induced in the secondary winding. Magnitude of this induced emf can be found by using the',\n",
       " 'following  EMF  equation  of the transformer . \\nEMF equation of the Transformer  \\nLet,',\n",
       " 'EMF equation of the Transformer  \\nLet, \\nN1 = Number of turns in primary winding',\n",
       " 'Let, \\nN1 = Number of turns in primary winding  \\nN2 = Number of turns in secondary winding',\n",
       " 'N2 = Number of turns in secondary winding  \\nΦm = Maximum flux in the core (in Wb) = (B m x A)',\n",
       " 'f = frequency of the AC supply (in Hz)',\n",
       " 'As, shown in the fig., the flux rises sinusoidally to its maximum value Φ m from 0. It reaches to',\n",
       " 'to its maximum value Φ m from 0. It reaches to the maximum',\n",
       " 'value in one quarter of the cycle i.e in T/4 sec (where, T is time period of the sin wave of the',\n",
       " '(where, T is time period of the sin wave of the supply = 1/f).',\n",
       " 'Therefore,  \\naverage rate of change  of flux =  Φm /(T/4)    = Φm /(1/4f) \\nTherefore,',\n",
       " 'Therefore,  \\naverage rate of change of flux = 4f Φ m       ....... (Wb/s).  \\nNow,',\n",
       " 'Now,  \\nInduced emf per turn = rate of change of flux per turn',\n",
       " 'Therefore, average emf per turn = 4f Φ m   ..........(Volts).  Now, we know,   Form factor = RMS',\n",
       " 'Now, we know,   Form factor = RMS value / average',\n",
       " 'value  \\nTherefore, RMS value of emf per turn = Form factor  X average emf per turn.',\n",
       " 'As, the flux Φ varies sinusoidally, form factor of a sine wave is 1.11',\n",
       " 'Therefore, RMS value of emf per turn =   1.11 x 4f Φ m = 4.44f Φ m.',\n",
       " 'RMS value of induced emf in whole primary winding (E 1) = RMS value of emf per turn  X Number of',\n",
       " '(E 1) = RMS value of emf per turn  X Number of turns in',\n",
       " 'primary winding  \\n \\n          E1 = 4.44f N 1 Φm          ............................. eq 1',\n",
       " 'Similarly, RMS induced emf in secondary windi ng (E 2) can be given as',\n",
       " 'E2 = 4.44f N 2 Φm.          ............................ eq 2',\n",
       " 'from the above equations 1 and 2,',\n",
       " 'This is called the  emf equation  of transformer , which shows, emf  / number of turns is same for',\n",
       " ', which shows, emf  / number of turns is same for both primary',\n",
       " 'and secondary winding.',\n",
       " 'For an  ideal  transformer  on no load, E 1 = V 1 and E 2 = V 2 .',\n",
       " 'where, V 1 = supply voltage of primary winding',\n",
       " 'V2 = terminal voltage of secondary winding  \\nVoltage Transformation Ratio (K)',\n",
       " 'Voltage Transformation Ratio (K)  \\nAs derived above,  \\n \\nWhere, K = constant',\n",
       " 'Where, K = constant  \\nThis constant K is known as  voltage  transformation  ratio .',\n",
       " '▪ If N 2 > N 1, i.e. K > 1, then the transformer is called step -up transformer.',\n",
       " '▪ If N 2 < N 1, i.e. K < 1, then the transformer is called step -down transformer.  \\n▪',\n",
       " '▪  \\nEquivalent circuit of Transformer  \\n \\nn a practical  transformer  -',\n",
       " '(a) Some  leakage  flux is present at both primary and seco ndary sides. This leakage gives rise to',\n",
       " 'and seco ndary sides. This leakage gives rise to leakage',\n",
       " 'reactances at both sides, which are denoted as X 1 and X 2 respectively.',\n",
       " '(b) Both the primary and secondary winding possesses resistance, denoted as R 1 and R 2',\n",
       " 'possesses resistance, denoted as R 1 and R 2 respectively. These',\n",
       " 'resistances causes  voltage drop as, I 1R1 and I 2R2 and also  copper  loss I12R1 and I 22R2.',\n",
       " '(c) Permeability of the core can not be infinite, hence some magnetizing current is needed. M utual',\n",
       " 'hence some magnetizing current is needed. M utual flux also',\n",
       " 'causes  core loss in iron parts of the transformer.  \\nEquivalent  circuit  of transformer',\n",
       " 'Resistances  and reactances  of transformer , which are described above, can be imagined separately',\n",
       " 'are described above, can be imagined separately from the',\n",
       " 'windings (as shown in the figure below). Hence, the f unction of windings, thereafter, will only be',\n",
       " 'f unction of windings, thereafter, will only be the',\n",
       " 'transforming the voltage.',\n",
       " 'The no load current I 0 is divided into, pure inductance X 0 (taking magnetizing components I μ)',\n",
       " 'X 0 (taking magnetizing components I μ) and non',\n",
       " 'induction resistance R 0 (taking working component I w) which are connected into parallel across',\n",
       " 'I w) which are connected into parallel across the primary.',\n",
       " 'The value of E 1 can be obtained by subtracting I 1Z1 from V 1. The value of R 0 and X 0 can be',\n",
       " 'I 1Z1 from V 1. The value of R 0 and X 0 can be calculated as, R 0 =',\n",
       " 'E1 / Iw and X 0 = E 1 / Iμ.',\n",
       " 'But, using this equivalent circuit  does not simplifies the calculations. To make calculations',\n",
       " 'simplifies the calculations. To make calculations simpler, it is',\n",
       " 'preferable to transfer current, voltage and impedance either to primary side or to the secondary',\n",
       " 'either to primary side or to the secondary side. In that',\n",
       " 'case, we would have to work with only one winding which is more conven ient.',\n",
       " 'From the voltage transformation ratio, it is clear that,  \\nE1 / E2 = N 1 / N2 = K',\n",
       " 'E1 / E2 = N 1 / N2 = K \\n \\nNow, lets refer the parameters of secondary side to primary.',\n",
       " \"Z2 can be referred to primary as Z 2'\",\n",
       " \"where, Z 2' = (N 1/N2)2Z2 = K2Z2.   ............where K= N 1/N2.\",\n",
       " \"that is, R 2'+jX 2' = K2(R2+jX 2) \\nequating real and imaginary parts,\",\n",
       " \"equating real and imaginary parts,  \\nR2' =  K2R2 and X 2' = K2X2 . \\nAnd V 2' = KV 2\",\n",
       " 'The following figure shows the  equivalent  circuit  of transformer  with  secondary  parameters',\n",
       " 'of transformer  with  secondary  parameters  referred  to',\n",
       " 'the primary .',\n",
       " 'Now, as the values of winding resistance and leakage reactance are so small that, V 1 and E 1 can',\n",
       " 'reactance are so small that, V 1 and E 1 can be assumed to',\n",
       " 'be equal. Therefore, the exciting current drawn by the parallel combination of   R0 and X 0 would',\n",
       " 'by the parallel combination of   R0 and X 0 would not affect',\n",
       " 'significantly, if we move it to the input terminals as shown in the figure below.',\n",
       " \"Now, let R 1 + R 2' = R'eq   and X 1 + X 2' = X'eq\",\n",
       " 'Then the  equivalent  circuit  of transformer  becomes as shown in the figure below',\n",
       " 'Approximate equivalent circuit of transformer',\n",
       " 'If only voltage regulation is to be calculated, then even the whole excitation branch (parallel',\n",
       " 'then even the whole excitation branch (parallel combination of R0',\n",
       " 'and X0) can be neglected. Then the equivalent circuit becomes as shown in the figure below',\n",
       " 'Transformer on No Load Condition',\n",
       " 'When the transformer is operating at no load, the secondary winding i s open -circuited, which',\n",
       " 'the secondary winding i s open -circuited, which means there is no',\n",
       " 'load on the secondary side of the transformer and, therefore, current in the secondary will be',\n",
       " 'and, therefore, current in the secondary will be zero. While',\n",
       " 'primary winding carries a small current I 0 called no -load current which is  2 to 10% of the rated',\n",
       " 'no -load current which is  2 to 10% of the rated current .',\n",
       " 'This current is responsible for supplying the iron losses (hysteresis and eddy current losses) in',\n",
       " 'losses (hysteresis and eddy current losses) in the core and a',\n",
       " 'very small amount of copper losses in the primary winding. The angle of lag depends upon the losses',\n",
       " 'winding. The angle of lag depends upon the losses in the',\n",
       " 'transformer. The power fact or is very low and varies from  0.1 to 0.15 .',\n",
       " 'The no -load current consists of two \\ncomponents:  \\n• Reactive or magnetizing component I m',\n",
       " '(It is in quadrature with the applied voltage V 1. It produces flux in the core and does not',\n",
       " 'V 1. It produces flux in the core and does not consume any power).',\n",
       " '• Active or power component I w, also know as a working component',\n",
       " '(It is in phase with the applied voltage V 1. It supplies the iron losses and a small amount of',\n",
       " 'It supplies the iron losses and a small amount of primary copper',\n",
       " 'loss).  \\nThe following steps are given below to draw the phasor diagram:',\n",
       " '1. The function  of the magnetizing component is to produce the magnetizing flux, and thus, it will',\n",
       " 'produce the magnetizing flux, and thus, it will be in phase',\n",
       " 'with the flux.',\n",
       " '2. Induced emf in the primary and the secondary winding lags the flux ϕ by 90 degrees.',\n",
       " '3. The primary copper loss is neglected, and secondary current l osses are zero as  \\nI2 = 0.',\n",
       " 'Therefore, the current I 0 lags behind the voltage vector V 1 by an angle ϕ 0 called the no -load',\n",
       " 'vector V 1 by an angle ϕ 0 called the no -load power factor angle',\n",
       " 'and is shown in the phasor diagram above.',\n",
       " '4. The applied voltage V 1 is drawn equal and opposite to the induced emf E 1 because the',\n",
       " 'and opposite to the induced emf E 1 because the difference between the',\n",
       " 'two, at no load, is negligible.',\n",
       " '5. Active component I w is drawn in phase with the applied voltage V 1.',\n",
       " '6. The phasor sum of magnetizing current I m and the working current I w gives the no -load current',\n",
       " 'working current I w gives the no -load current I 0.',\n",
       " '7. From the phasor  diagram drawn above, the following \\nconclusions are made',\n",
       " 'conclusions are made  \\nTransformer On Load Condition',\n",
       " 'When the transformer is on the loaded condition, the secondary of the transformer is connected to',\n",
       " 'the secondary of the transformer is connected to load. The',\n",
       " 'load can be resistive, inductive or capacitive. The current I2 flows through the secondary winding',\n",
       " 'current I2 flows through the secondary winding of the',\n",
       " 'transformer. The magnitude of the secondary current depends on the terminal voltage V 2 and the',\n",
       " 'depends on the terminal voltage V 2 and the load',\n",
       " 'impedance. The phase angle between the secondary current and voltage depends on the nature of the',\n",
       " 'current and voltage depends on the nature of the load.',\n",
       " 'Operation of the Transformer on Load Condition',\n",
       " 'The Operation of the Transformer on Load Condition is explained below:',\n",
       " '• When the secondary of the transformer is kept open, it draws the no -load current from the main',\n",
       " 'open, it draws the no -load current from the main supply. The no -',\n",
       " 'load current induces the magnetomotive force N 0I0 and this force set up the flux Φ in the core of',\n",
       " 'and this force set up the flux Φ in the core of the',\n",
       " 'transformer. The circuit of the transformer at no load condition is shown in the figure below:',\n",
       " '•',\n",
       " 'o When the load is connected to the secondary of the transformer, I 2 current flows through their',\n",
       " 'the transformer, I 2 current flows through their secondary',\n",
       " 'winding. The secondary current induces the magnetomotive force N 2I2 on the secondary winding of th',\n",
       " 'force N 2I2 on the secondary winding of th e',\n",
       " 'transformer. This force set up the flux φ 2 in the transformer core. The flux φ 2 opposes the flux',\n",
       " 'transformer core. The flux φ 2 opposes the flux φ, according',\n",
       " 'to Lenz’s law .',\n",
       " '▪ As the flux φ 2 opposes the flux φ, the resultant flux of the transformer decreases and this flux',\n",
       " 'flux of the transformer decreases and this flux reduces the',\n",
       " 'induced EMF E 1. Thus, the strength of the V 1 is more than E 1 and an additional primary current',\n",
       " 'more than E 1 and an additional primary current I’ 1 drawn from',\n",
       " 'the main supply.',\n",
       " 'The additional current is used for restoring the original value of the flux in the core of the',\n",
       " 'the original value of the flux in the core of the transformer so that',\n",
       " 'V1 = E 1. The primary current I’ 1 is in phase opposition with the secondary current I 2. Thus, it',\n",
       " 'with the secondary current I 2. Thus, it is called',\n",
       " 'the primary counter -balancing current .',\n",
       " '▪ The additional current I’ 1 induces the magnetomotive force N 1I’1. And this force set up the',\n",
       " 'force N 1I’1. And this force set up the flux φ’ 1. The',\n",
       " 'direction of the flux is the same as that of the φ and it cancels the flux φ 2 which induces',\n",
       " 'the φ and it cancels the flux φ 2 which induces because of the MMF',\n",
       " 'N2I2',\n",
       " 'Now, N 1I1’ = N 2I2 \\nTherefore,',\n",
       " '• The phase difference between V 1 and I 1 gives the power factor angle ϕ 1 of the primary side of',\n",
       " 'the power factor angle ϕ 1 of the primary side of the transformer.',\n",
       " '• The power factor of the secondary  side depends upon the type of load connected to the',\n",
       " 'depends upon the type of load connected to the transformer.',\n",
       " '• If the load is inductive as shown in the above phasor  diagram, the power factor will be lagging,',\n",
       " 'diagram, the power factor will be lagging, and if the load is',\n",
       " 'capacitive, the power factor will be leading. The total primary current I 1 is the vector sum of',\n",
       " 'total primary current I 1 is the vector sum of the currents I 0 and',\n",
       " 'I1’. i.e \\n \\nPhasor Diagram of Transformer on Inductive Load',\n",
       " 'The phasor diagram  of the actual transformer when it is loaded inductively is shown below:',\n",
       " 'Phasor Diagram of the Transformer on Inductive Load  \\nSteps to draw the phasor diagram',\n",
       " 'Steps to draw the phasor diagram  \\n• Take flux ϕ, a reference',\n",
       " '• Take flux ϕ, a reference  \\n• Induces emf E 1 and E 2 lags the flux by 90 degrees.',\n",
       " '• The component of the applied voltage to the primary equal and opposite to induced emf in the',\n",
       " 'primary equal and opposite to induced emf in the primary winding.',\n",
       " 'E1 is represented by V 1’. \\n• Current I 0 lags the voltage V 1’ by 90 degrees.',\n",
       " '• The power factor of the load is lagging. Therefore current I 2 is drawn lagging E 2 by an angle ϕ',\n",
       " 'current I 2 is drawn lagging E 2 by an angle ϕ 2.',\n",
       " '• The resistance and the leakage reactance of the windings result in a voltage drop, and hence',\n",
       " 'the windings result in a voltage drop, and hence secondary terminal',\n",
       " 'voltage V 2 is the phase difference of E 2 and voltage drop.  \\nV2 = E 2 – voltage drops',\n",
       " 'V2 = E 2 – voltage drops  \\nI2 R2 is in phase with I 2 and I2X2 is in quadrature with I 2.',\n",
       " '• The total current flowing in the primary winding is the phasor sum of I 1’ and I 0.',\n",
       " '• Primary applied voltage V 1 is the phasor sum of V 1’ and the voltage drop in the primary',\n",
       " 'sum of V 1’ and the voltage drop in the primary winding.',\n",
       " '• Current I 1’ is drawn equal and opposite to t he current I 2 \\nV1 = V 1’ + voltage drop',\n",
       " 'V1 = V 1’ + voltage drop  \\nI1R1 is in phase with I 1 and I 1XI is in quadrature with I 1.',\n",
       " '• The phasor difference between V 1 and I 1 gives the power factor angle ϕ 1 of the primary side of',\n",
       " 'the power factor angle ϕ 1 of the primary side of the transformer.',\n",
       " '• The power factor of the secondary side depends upon the type of load connected to the',\n",
       " 'depends upon the type of load connected to the transformer.',\n",
       " '• If the load is inductive as shown in the above phasor diagram, the power factor will be lagging,',\n",
       " 'phasor diagram, the power factor will be lagging, and if the load is',\n",
       " 'capacitive, the power factor will be leading.        Where I 1R1 is the resistive drop in the',\n",
       " 'Where I 1R1 is the resistive drop in the primary windings',\n",
       " 'I2X2 is the reactive drop in the secondary winding  \\nSimilarly',\n",
       " 'Similarly  \\nPhasor Diagram of Transformer on Capacitive Load',\n",
       " 'The Transformer on the Capacitive  load (leading power factor load) is shown below in the phasor',\n",
       " 'power factor load) is shown below in the phasor diagram.',\n",
       " 'Steps to draw the phasor diagram at capacitive load  \\n• Take flux ϕ a reference',\n",
       " '• Take flux ϕ a reference  \\n• Induces emf E 1 and E 2 lags the flux by 90 degrees.',\n",
       " '• The component of the applied voltage to the primary equal and opposite to induced emf in the',\n",
       " 'primary equal and opposite to induced emf in the primary winding.',\n",
       " 'E1 is represented by V 1’. \\n• Current I 0 lags the voltage V 1’ by 90 degrees.',\n",
       " '• The power factor of the load is leading. Therefore current I 2 is drawn le ading E 2',\n",
       " '• The resistance and the leakage reactance of the windings result in a voltage drop, and hence',\n",
       " 'the windings result in a voltage drop, and hence secondary terminal',\n",
       " 'voltage V 2 is the phasor difference of E 2 and voltage drop.  \\nV2 = E 2 – voltage drops',\n",
       " 'V2 = E 2 – voltage drops  \\nI2 R2 is in phase with I 2 and I 2X2 is in quadrature  with I 2.',\n",
       " '• Current I 1’ is drawn equal and opposite to the current I 2',\n",
       " '• The total current I 1 flowing in the primary winding is the phasor sum of I 1’ and I 0.',\n",
       " '• Primary applied voltage V 1 is the phasor sum of V 1’ and the voltage drop in the primary',\n",
       " 'sum of V 1’ and the voltage drop in the primary winding.',\n",
       " 'V1 = V1’ + voltage drop  \\nI1R1 is in phase with I 1 and I 1XI is in quadrature with I 1.',\n",
       " '• The phasor difference between V 1 and I 1 gives the power factor angle ϕ 1 of the primary side of',\n",
       " 'the power factor angle ϕ 1 of the primary side of the transformer.',\n",
       " '• The power factor of the secondary side depends upon the type of l oad connected to the',\n",
       " 'depends upon the type of l oad connected to the transformer.',\n",
       " 'This is all about the phasor diagram on various loads.',\n",
       " 'Phasor Diagram of the Transformer on Capacitive Load']"
      ]
     },
     "execution_count": 45,
     "metadata": {},
     "output_type": "execute_result"
    }
   ],
   "source": [
    "doc_strings \n"
   ]
  },
  {
   "cell_type": "code",
   "execution_count": 46,
   "metadata": {},
   "outputs": [],
   "source": [
    "db = Chroma.from_documents(new_docs, embeddings)\n",
    "\n",
    "retriever = db.as_retriever(search_kwargs={\"k\": 3})"
   ]
  },
  {
   "cell_type": "code",
   "execution_count": 47,
   "metadata": {},
   "outputs": [
    {
     "name": "stderr",
     "output_type": "stream",
     "text": [
      "C:\\Users\\HP\\AppData\\Local\\Temp\\ipykernel_8832\\2778552116.py:2: LangChainDeprecationWarning: The method `BaseRetriever.get_relevant_documents` was deprecated in langchain-core 0.1.46 and will be removed in 1.0. Use :meth:`~invoke` instead.\n",
      "  docs = retriever.get_relevant_documents(query)\n"
     ]
    },
    {
     "name": "stdout",
     "output_type": "stream",
     "text": [
      "{'page': 3, 'source': 'Data\\\\transformer.pdf'}\n",
      "transformer.\n",
      "page_content='transformer.' metadata={'page': 3, 'source': 'Data\\\\transformer.pdf'}\n",
      "page_content='transformers.' metadata={'page': 2, 'source': 'Data\\\\transformer.pdf'}\n",
      "page_content='Transformers are the most highly efficient electrical devices. Most of the transformers have full' metadata={'page': 5, 'source': 'Data\\\\transformer.pdf'}\n"
     ]
    }
   ],
   "source": [
    "query = \"what is Transformer?\"\n",
    "docs = retriever.get_relevant_documents(query)\n",
    "print(docs[0].metadata)\n",
    "print(docs[0].page_content)\n",
    "\n",
    "for doc in docs:\n",
    "    print(doc)"
   ]
  },
  {
   "cell_type": "code",
   "execution_count": 48,
   "metadata": {},
   "outputs": [],
   "source": [
    "# Generating Workflow for creating Rag\n",
    "\n",
    "# LLM Output\n",
    "def function_1(AgentState):\n",
    "    \n",
    "    message=AgentState[\"messages\"]\n",
    "    \n",
    "    question=message[-1] # -1 For last or latest  message\n",
    "    \n",
    "    complete_prompt=\"Your task is to provide only the brief answer based on the user query. \\\n",
    "        Don't include too much reasoning. Following is the user query: \" + question\n",
    "    \n",
    "    response = llm.invoke(complete_prompt)\n",
    "    \n",
    "    AgentState['messages'].append(response.content) # appending LLM call response to the AgentState\n",
    "    \n",
    "    #print(AgentState)\n",
    "    \n",
    "    return AgentState"
   ]
  },
  {
   "cell_type": "code",
   "execution_count": 49,
   "metadata": {},
   "outputs": [],
   "source": [
    "# It is basically a dictionary , where conversation is stored\n",
    "AgentState={}"
   ]
  },
  {
   "cell_type": "code",
   "execution_count": 50,
   "metadata": {},
   "outputs": [],
   "source": [
    "AgentState[\"messages\"]=[] # message will contain in form of list"
   ]
  },
  {
   "cell_type": "code",
   "execution_count": 51,
   "metadata": {},
   "outputs": [
    {
     "data": {
      "text/plain": [
       "{'messages': []}"
      ]
     },
     "execution_count": 51,
     "metadata": {},
     "output_type": "execute_result"
    }
   ],
   "source": [
    "AgentState"
   ]
  },
  {
   "cell_type": "code",
   "execution_count": 52,
   "metadata": {},
   "outputs": [],
   "source": [
    "AgentState[\"messages\"].append(\"hi, how are you?\")"
   ]
  },
  {
   "cell_type": "code",
   "execution_count": 53,
   "metadata": {},
   "outputs": [
    {
     "data": {
      "text/plain": [
       "{'messages': ['hi, how are you?']}"
      ]
     },
     "execution_count": 53,
     "metadata": {},
     "output_type": "execute_result"
    }
   ],
   "source": [
    "AgentState\n",
    "# Message will be key , sentence will be value"
   ]
  },
  {
   "cell_type": "code",
   "execution_count": 54,
   "metadata": {},
   "outputs": [],
   "source": [
    "AgentState[\"messages\"].append(\"hi, what you doing?\")"
   ]
  },
  {
   "cell_type": "code",
   "execution_count": 55,
   "metadata": {},
   "outputs": [
    {
     "data": {
      "text/plain": [
       "{'messages': ['hi, how are you?', 'hi, what you doing?']}"
      ]
     },
     "execution_count": 55,
     "metadata": {},
     "output_type": "execute_result"
    }
   ],
   "source": [
    "AgentState"
   ]
  },
  {
   "cell_type": "code",
   "execution_count": 56,
   "metadata": {},
   "outputs": [
    {
     "data": {
      "text/plain": [
       "'hi, how are you?'"
      ]
     },
     "execution_count": 56,
     "metadata": {},
     "output_type": "execute_result"
    }
   ],
   "source": [
    "AgentState[\"messages\"][0]"
   ]
  },
  {
   "cell_type": "code",
   "execution_count": 57,
   "metadata": {},
   "outputs": [],
   "source": [
    "# RAG Output\n",
    "# Agent state from first fumction will move to second function\n",
    "\n",
    "def function_2(AgentState):\n",
    "    messages = AgentState['messages']\n",
    "    question = messages[0] ## Fetching the user question, Message first part is taken which llm create question, check output\n",
    "\n",
    "    template = \"\"\"Answer the question based only on the following context:\n",
    "    {context}\n",
    "\n",
    "    Question: {question}\n",
    "    \"\"\"\n",
    "    prompt = ChatPromptTemplate.from_template(template)\n",
    "\n",
    "    retrieval_chain = (\n",
    "        {\"context\": retriever, \"question\": RunnablePassthrough()}\n",
    "        | prompt\n",
    "        | llm\n",
    "        | StrOutputParser()\n",
    "        )\n",
    "    result = retrieval_chain.invoke(question)\n",
    "    return result"
   ]
  },
  {
   "cell_type": "code",
   "execution_count": 58,
   "metadata": {},
   "outputs": [],
   "source": [
    "# Define a Langchain graph\n",
    "from langgraph.graph import Graph\n",
    "workflow4 = Graph()\n",
    "workflow4.add_node(\"LLM\", function_1)\n",
    "workflow4.add_node(\"RAGtool\", function_2)\n",
    "workflow4.add_edge('LLM', 'RAGtool')\n",
    "workflow4.set_entry_point(\"LLM\")\n",
    "workflow4.set_finish_point(\"RAGtool\")\n",
    "app4 = workflow4.compile()"
   ]
  },
  {
   "cell_type": "code",
   "execution_count": 59,
   "metadata": {},
   "outputs": [
    {
     "data": {
      "image/png": "[encoded data removed]",
      "text/plain": [
       "<IPython.core.display.Image object>"
      ]
     },
     "metadata": {},
     "output_type": "display_data"
    }
   ],
   "source": [
    "from IPython.display import Image, display\n",
    "\n",
    "try:\n",
    "    display(Image(app4.get_graph().draw_mermaid_png()))\n",
    "except Exception as e:\n",
    "    # This requires some extra dependencies and is optional\n",
    "    print(e)"
   ]
  },
  {
   "cell_type": "code",
   "execution_count": 60,
   "metadata": {},
   "outputs": [],
   "source": [
    "inputs = {\"messages\": [\"Tell me about Transformer\"]}"
   ]
  },
  {
   "cell_type": "code",
   "execution_count": 61,
   "metadata": {},
   "outputs": [
    {
     "name": "stdout",
     "output_type": "stream",
     "text": [
      "Output from node 'LLM':\n",
      "---\n",
      "{'messages': ['Tell me about Transformer', 'A neural network architecture for sequence-to-sequence tasks.\\n']}\n",
      "\n",
      "---\n",
      "\n",
      "Output from node 'RAGtool':\n",
      "---\n",
      "The document mentions \"transformer\", \"transformers\", and \"Transformers are the most highly efficient electrical devices. Most of the transformers have full\".\n",
      "\n",
      "\n",
      "---\n",
      "\n"
     ]
    }
   ],
   "source": [
    "for output in app4.stream(inputs):\n",
    "    # stream() yields dictionaries with output keyed by node name\n",
    "    for key, value in output.items():\n",
    "        print(f\"Output from node '{key}':\")\n",
    "        print(\"---\")\n",
    "        print(value)\n",
    "    print(\"\\n---\\n\")"
   ]
  },
  {
   "cell_type": "markdown",
   "metadata": {},
   "source": [
    "# Level 4 Workflow\n",
    "After giving the question to the  agent, agent  will give output and based on that output we are going to decide, whether we will do llm call or rag call"
   ]
  },
  {
   "cell_type": "code",
   "execution_count": 62,
   "metadata": {},
   "outputs": [],
   "source": [
    "loader2 = DirectoryLoader('Data/',\n",
    "                            glob=\"*.pdf\",  # Load Only Pdf documents\n",
    "                            loader_cls=PyPDFLoader)\n",
    "docs2=loader2.load()\n",
    "text_splitter=RecursiveCharacterTextSplitter(\n",
    "    chunk_size=100,\n",
    "    chunk_overlap=50\n",
    ")\n",
    "new_docs2 = text_splitter.split_documents(documents=docs)\n",
    "doc_strings2 = [doc.page_content for doc in new_docs]"
   ]
  },
  {
   "cell_type": "code",
   "execution_count": 63,
   "metadata": {},
   "outputs": [],
   "source": [
    "db2 = Chroma.from_documents(new_docs2, embeddings)\n",
    "retriever2 = db2.as_retriever(search_kwargs={\"k\": 3})"
   ]
  },
  {
   "cell_type": "code",
   "execution_count": 64,
   "metadata": {},
   "outputs": [
    {
     "name": "stdout",
     "output_type": "stream",
     "text": [
      "{'page': 1, 'source': 'Data\\\\transformer.pdf'}\n",
      "Transformers can be classified on different basis, like types of construction, types of cooling\n",
      "page_content='Transformers can be classified on different basis, like types of construction, types of cooling' metadata={'page': 1, 'source': 'Data\\\\transformer.pdf'}\n",
      "page_content='(A) On the basis  of construction , transformers can be classified into two types as;' metadata={'page': 1, 'source': 'Data\\\\transformer.pdf'}\n",
      "page_content='Transformers are the most highly efficient electrical devices. Most of the transformers have full' metadata={'page': 5, 'source': 'Data\\\\transformer.pdf'}\n"
     ]
    }
   ],
   "source": [
    "query = \"Tell me about  the Types of transformers?\"\n",
    "docs = retriever2.get_relevant_documents(query)\n",
    "print(docs[0].metadata)\n",
    "print(docs[0].page_content)\n",
    "\n",
    "for doc in docs:\n",
    "    print(doc)"
   ]
  },
  {
   "cell_type": "markdown",
   "metadata": {},
   "source": [
    "1. TypedDict:\n",
    "- TypedDict is a special type that allows you to define a dictionary in Python where each key has a specific type.\n",
    "It’s useful when you want to enforce type checks on the keys and values of a dictionary.\n",
    "\n",
    "2. Annotated:\n",
    "- Annotated is used to add metadata or constraints to a type.\n",
    "It’s typically used for adding additional information, like constraints or descriptions, to the type.\n",
    "\n",
    "3. Sequence[BaseMessage]:\n",
    "- Sequence is a generic type from Python's typing module that represents a list-like structure (such as a list or tuple) where the order matters, and you can access elements by their position.\n",
    "\n",
    "4. BaseMessage:\n",
    "- Basemessage: This assumes you're working with the LangChain framework, and BaseMessage is part of its core messaging system. It is typically used when handling or processing messages in LangChain's workflows\n",
    "\n",
    "5. operator.add:\n",
    "\n",
    "- operator.add is a function from Python’s operator module that performs addition (+) on its arguments.\n",
    "In this context, operator.add is being used as metadata for the Annotated type, likely suggesting that the sequence of BaseMessage objects is meant to be \"added\" or concatenated with another sequence at some point. It’s an indicator of how the messages field will be treated in the logic of your program.\n",
    "\n",
    "\n",
    "- **TopicSelectionParser:** A Pydantic model that defines two fields (Topic and Reasoning), both of which are required to be strings.\n",
    "- **Field:** Adds metadata, like descriptions, and can also be used for validation and constraints.\n",
    "- **Pydantic’s Role:** Ensures that the data matches the expected structure and types, raising validation errors if the data is invalid."
   ]
  },
  {
   "cell_type": "code",
   "execution_count": 65,
   "metadata": {},
   "outputs": [],
   "source": [
    "from typing import TypedDict, Annotated, Sequence\n",
    "import operator\n",
    "from langchain_core.messages import BaseMessage\n",
    "from langchain.prompts import PromptTemplate"
   ]
  },
  {
   "cell_type": "code",
   "execution_count": 66,
   "metadata": {},
   "outputs": [],
   "source": [
    "class AgentState(TypedDict):\n",
    "    # The 'messages' field should be a sequence of strings, and we annotate it with 'operator.add'\n",
    "    # This implies we might want to \"add\" new messages to the sequence later\n",
    "    messages: Annotated[Sequence[BaseMessage], operator.add] # value is the Meta data\n",
    "    # Message is key and other is value\n",
    "    # Annotated add meta data\n",
    "    # Sequence:- sequence of message\n",
    "    # Base Message :Normal message\n",
    "    # operator.add:- Add multiple messages"
   ]
  },
  {
   "cell_type": "markdown",
   "metadata": {},
   "source": [
    "### Putting It All Together:\n",
    "\n",
    "- The line messages: Annotated[Sequence[BaseMessage], operator.add] defines a field messages that:\n",
    "\n",
    "- Must be a sequence (like a list or tuple) of BaseMessage objects.\n",
    "Has the additional annotation operator.add, which suggests that this sequence is intended to support addition (i.e., concatenation of multiple sequences of messages).\n",
    "\n",
    "messages: Annotated[Sequence[BaseMessage], operator.add]\n",
    "\n",
    "\"messages\": [BaseMessage(\"Hello!\", \"Alice\"), BaseMessage(\"Hi!\", \"Bob\")]"
   ]
  },
  {
   "cell_type": "code",
   "execution_count": 67,
   "metadata": {},
   "outputs": [],
   "source": [
    "from pydantic import BaseModel , Field # Field :- For meta data\n",
    "class TopicSelectionParser(BaseModel):\n",
    "    Topic: str = Field(description='Selected Topic') # Extract from question (india)\n",
    "    Reasoning: str = Field(description='Reasoning behind topic selection') #detail (Detail of india )"
   ]
  },
  {
   "cell_type": "code",
   "execution_count": 68,
   "metadata": {},
   "outputs": [],
   "source": [
    "from langchain.output_parsers import PydanticOutputParser\n",
    "parser = PydanticOutputParser(pydantic_object=TopicSelectionParser)"
   ]
  },
  {
   "cell_type": "code",
   "execution_count": 86,
   "metadata": {},
   "outputs": [
    {
     "name": "stdout",
     "output_type": "stream",
     "text": [
      "The output should be formatted as a JSON instance that conforms to the JSON schema below.\n",
      "\n",
      "As an example, for the schema {\"properties\": {\"foo\": {\"title\": \"Foo\", \"description\": \"a list of strings\", \"type\": \"array\", \"items\": {\"type\": \"string\"}}}, \"required\": [\"foo\"]}\n",
      "the object {\"foo\": [\"bar\", \"baz\"]} is a well-formatted instance of the schema. The object {\"properties\": {\"foo\": [\"bar\", \"baz\"]}} is not well-formatted.\n",
      "\n",
      "Here is the output schema:\n",
      "```\n",
      "{\"properties\": {\"Topic\": {\"description\": \"Selected Topic\", \"title\": \"Topic\", \"type\": \"string\"}, \"Reasoning\": {\"description\": \"Reasoning behind topic selection\", \"title\": \"Reasoning\", \"type\": \"string\"}}, \"required\": [\"Topic\", \"Reasoning\"]}\n",
      "```\n"
     ]
    }
   ],
   "source": [
    "print(parser.get_format_instructions())"
   ]
  },
  {
   "cell_type": "code",
   "execution_count": 69,
   "metadata": {},
   "outputs": [],
   "source": [
    "# This will decide which node to call\n",
    "# Cheeck if the key present in rag\n",
    "\n",
    "def function_1(state):\n",
    "    message=state[\"messages\"]\n",
    "    question=message[-1]\n",
    "    print(question)\n",
    "    \n",
    "    template=\"\"\"\n",
    "    Your task is to classify the given user query into one of the following categories: [Transformer, Not Related]. \n",
    "    Only respond with the category name and nothing else.\n",
    "\n",
    "    User query: {question}\n",
    "    {format_instructions}\n",
    "    \"\"\"\n",
    "    \n",
    "    prompt = PromptTemplate(template=template,\n",
    "                                    input_variables=[question],\n",
    "                                    partial_variables={\n",
    "                                        \"format_instructions\" : parser.get_format_instructions()                                    }\n",
    "                                    )\n",
    "    chain =  prompt | llm | parser\n",
    "    \n",
    "    response = chain.invoke({\"question\":question,\"format_instructions\" : parser.get_format_instructions() })\n",
    "\n",
    "    print(response)\n",
    "\n",
    "    return {\"messages\": [response.Topic]}"
   ]
  },
  {
   "cell_type": "code",
   "execution_count": 87,
   "metadata": {},
   "outputs": [],
   "source": [
    "# Example for above process\n",
    "# template=\"\"\"\n",
    "#     # Your task is to classify the given user query into one of the following categories: [India, Not Related]. \n",
    "#     # Only respond with the category name and nothing else.\n",
    "\n",
    "#     # User query: \"Tell me about India's Industrial Growth\"\n",
    "#     # The output should be formatted as a JSON instance that conforms to the JSON schema below.\n",
    "\n",
    "#     # As an example, for the schema {\"properties\": {\"foo\": {\"title\": \"Foo\", \"description\": \"a list of strings\", \"type\": \"array\", \"items\": {\"type\": \"string\"}}}, \"required\": [\"foo\"]}\n",
    "#     # the object {\"foo\": [\"bar\", \"baz\"]} is a well-formatted instance of the schema. The object {\"properties\": {\"foo\": [\"bar\", \"baz\"]}} is not well-formatted.\n",
    "\n",
    "#     # Here is the output schema:\n",
    "#     # ```\n",
    "#     # {\"properties\": {\"Topic\": {\"description\": \"Selected Topic\", \"title\": \"Topic\", \"type\": \"string\"}, \"Reasoning\": {\"description\": \"Reasoning behind topic selection\", \"title\": \"Reasoning\", \"type\": \"string\"}}, \"required\": [\"Topic\", \"Reasoning\"]}\n",
    "#     #     \"\"\""
   ]
  },
  {
   "cell_type": "code",
   "execution_count": 88,
   "metadata": {},
   "outputs": [],
   "source": [
    "# Ouput for function 1\n",
    "state={\"messages\": [\"Tell me about Transformer\"]}"
   ]
  },
  {
   "cell_type": "code",
   "execution_count": 89,
   "metadata": {},
   "outputs": [
    {
     "name": "stdout",
     "output_type": "stream",
     "text": [
      "Tell me about Transformer\n",
      "Topic='Transformer' Reasoning=\"The query explicitly asks about 'Transformer'\"\n"
     ]
    },
    {
     "data": {
      "text/plain": [
       "{'messages': ['Transformer']}"
      ]
     },
     "execution_count": 89,
     "metadata": {},
     "output_type": "execute_result"
    }
   ],
   "source": [
    "function_1(state)"
   ]
  },
  {
   "cell_type": "code",
   "execution_count": 70,
   "metadata": {},
   "outputs": [],
   "source": [
    "# Take the keyword and decide which path  to take \n",
    "def router(state):\n",
    "    print('-> Router ->')\n",
    "    \n",
    "    messages = state[\"messages\"]\n",
    "    last_message = messages[-1]\n",
    "    print(last_message)\n",
    "    if 'Transformer' in last_message:\n",
    "        return 'RAG Call'\n",
    "    else:\n",
    "        return 'LLM Call'"
   ]
  },
  {
   "cell_type": "code",
   "execution_count": 71,
   "metadata": {},
   "outputs": [],
   "source": [
    "# RAG\n",
    "# If transformer\n",
    "def function_2(state):\n",
    "    print('-> Calling RAG ->')\n",
    "    messages = state['messages']\n",
    "    question = messages[0] ## Fetching the user question\n",
    "    print(question)\n",
    "\n",
    "    template = \"\"\"Answer the question based only on the following context:\n",
    "    {context}\n",
    "\n",
    "    Question: {question}\n",
    "    \"\"\"\n",
    "    prompt = ChatPromptTemplate.from_template(template)\n",
    "    \n",
    "    print(prompt)\n",
    "\n",
    "    retrieval_chain = (\n",
    "        {\"context\": retriever, \"question\": RunnablePassthrough()}\n",
    "        | prompt\n",
    "        | llm\n",
    "        | StrOutputParser()\n",
    "        )\n",
    "    result = retrieval_chain.invoke(question)\n",
    "    return  {\"messages\": [result]}"
   ]
  },
  {
   "cell_type": "code",
   "execution_count": 73,
   "metadata": {},
   "outputs": [],
   "source": [
    "# If not transformer llm\n",
    "def function_3(state):\n",
    "    print('-> Calling LLM ->')\n",
    "\n",
    "    messages = state['messages']\n",
    "    question = messages[0] ## Fetching the user question\n",
    "\n",
    "    # Normal LLM call\n",
    "    complete_query = \"Answer the follow question with your knowledge of the real world. Following is the user question: \" + question\n",
    "    llm = ChatGoogleGenerativeAI(model=\"gemini-2.0-flash-exp\")\n",
    "    response = llm.invoke(complete_query)\n",
    "    return {\"messages\": [response.content]}"
   ]
  },
  {
   "cell_type": "code",
   "execution_count": 74,
   "metadata": {},
   "outputs": [
    {
     "data": {
      "text/plain": [
       "__main__.AgentState"
      ]
     },
     "execution_count": 74,
     "metadata": {},
     "output_type": "execute_result"
    }
   ],
   "source": [
    "AgentState"
   ]
  },
  {
   "cell_type": "code",
   "execution_count": 75,
   "metadata": {},
   "outputs": [],
   "source": [
    "# Creating Workflow\n",
    "from langgraph.graph import StateGraph,END # State graph for which state (llm or rag ) the value will go\n",
    "\n",
    "workflow5 = StateGraph(AgentState) ### StateGraph with AgentState\n",
    "\n",
    "\n",
    "workflow5.add_node(\"agent\", function_1)\n",
    "\n",
    "workflow5.add_node(\"RAG\", function_2)\n",
    "\n",
    "workflow5.add_node(\"LLM\", function_3)\n",
    "\n",
    "\n",
    "workflow5.set_entry_point(\"agent\")\n",
    "\n",
    "# Conditional edges\n",
    "workflow5.add_conditional_edges(\n",
    "    \"agent\",\n",
    "    \n",
    "    \n",
    "    router,\n",
    "    {\n",
    "        \"RAG Call\": \"RAG\",\n",
    "        \"LLM Call\": \"LLM\",\n",
    "    }\n",
    ")\n",
    "\n",
    "workflow5.add_edge(\"RAG\",END)\n",
    "\n",
    "\n",
    "workflow5.add_edge(\"LLM\",END)\n",
    "\n",
    "\n",
    "app5=workflow5.compile()"
   ]
  },
  {
   "cell_type": "code",
   "execution_count": 76,
   "metadata": {},
   "outputs": [
    {
     "data": {
      "image/png": "[encoded data removed]",
      "text/plain": [
       "<langgraph.graph.state.CompiledStateGraph object at 0x00000257D0373CD0>"
      ]
     },
     "execution_count": 76,
     "metadata": {},
     "output_type": "execute_result"
    }
   ],
   "source": [
    "app5"
   ]
  },
  {
   "cell_type": "code",
   "execution_count": 77,
   "metadata": {},
   "outputs": [
    {
     "data": {
      "image/png": "[encoded data removed]",
      "text/plain": [
       "<IPython.core.display.Image object>"
      ]
     },
     "metadata": {},
     "output_type": "display_data"
    }
   ],
   "source": [
    "from IPython.display import Image, display\n",
    "\n",
    "try:\n",
    "    display(Image(app5.get_graph().draw_mermaid_png()))\n",
    "except Exception as e:\n",
    "    # This requires some extra dependencies and is optional\n",
    "    print(e)"
   ]
  },
  {
   "cell_type": "code",
   "execution_count": 82,
   "metadata": {},
   "outputs": [
    {
     "name": "stdout",
     "output_type": "stream",
     "text": [
      "Tell me about India's Industrial Growth\n",
      "Topic='Not Related' Reasoning=\"The query is about India's industrial growth, which is not related to transformers.\"\n",
      "-> Router ->\n",
      "Not Related\n",
      "-> Calling LLM ->\n"
     ]
    }
   ],
   "source": [
    "inputs = {\"messages\": [\"Tell me about India's Industrial Growth\"]}\n",
    "output = app5.invoke(inputs)"
   ]
  },
  {
   "cell_type": "code",
   "execution_count": 83,
   "metadata": {},
   "outputs": [
    {
     "data": {
      "text/plain": [
       "{'messages': [\"Tell me about India's Industrial Growth\",\n",
       "  'Not Related',\n",
       "  'Okay, let\\'s talk about India\\'s industrial growth. It\\'s a complex and dynamic topic, so I\\'ll break it down into key areas:\\n\\n**Historical Context:**\\n\\n* **Post-Independence Era (1947-1991):**  India initially adopted a mixed economy model with a strong emphasis on public sector-led industrialization. This focused on building heavy industries like steel, power, and infrastructure. While it laid the foundation, it also resulted in inefficiencies, bureaucratic hurdles, and limited private sector participation. This period was characterized by the \"License Raj,\" where permits were needed for most economic activities.\\n* **Liberalization Era (1991 onwards):**  A major economic crisis in 1991 forced India to liberalize its economy. This involved:\\n    * **Deregulation:** Reducing government control and bureaucratic hurdles.\\n    * **Privatization:** Opening up state-owned enterprises to private investment.\\n    * **Trade Liberalization:** Reducing tariffs and encouraging foreign investment.\\n    * **Market-Oriented Reforms:**  Shifting towards a more market-based economy.\\n* **Post-Liberalization Growth:** This era witnessed significant industrial growth, driven by the private sector, technological advancements, and increased global integration.\\n\\n**Key Sectors of Industrial Growth:**\\n\\n* **Manufacturing:**\\n    * **Automobile Industry:** India is a major automobile manufacturer, with both domestic and international players.\\n    * **Pharmaceuticals:** A global hub for generic drug manufacturing and increasingly focusing on research and development.\\n    * **Textiles:** A traditional sector but modernizing with the use of technology and synthetic fibers.\\n    * **Engineering Goods:**  Manufacturing a wide range of machinery, equipment, and components.\\n    * **Electronics:**  Growing rapidly with a focus on consumer electronics and components.\\n* **Services:**\\n    * **Information Technology (IT) & Business Process Outsourcing (BPO):** A major growth driver for the Indian economy, with India being a global outsourcing hub.\\n    * **Financial Services:**  A rapidly expanding sector with banking, insurance, and capital markets.\\n    * **Tourism & Hospitality:**  A significant contributor to the economy, particularly in certain regions.\\n    * **Healthcare:**  A growing sector with both public and private players.\\n* **Infrastructure:**\\n    * **Power:**  India has made significant progress in expanding its power generation capacity, but still faces challenges in distribution and reliability.\\n    * **Transportation:**  Investments in roads, railways, ports, and airports are crucial for industrial growth.\\n    * **Telecommunications:**  Rapid growth in mobile technology and internet access has fueled economic activity.\\n\\n**Factors Driving India\\'s Industrial Growth:**\\n\\n* **Large Domestic Market:**  India has a huge population, creating a vast domestic market for goods and services.\\n* **Skilled Workforce:**  A large pool of skilled professionals, especially in IT and engineering, is a key advantage.\\n* **Rising Middle Class:**  The growing middle class is driving consumption and fueling demand.\\n* **Government Initiatives:**  The government has launched various initiatives like \"Make in India,\" \"Digital India,\" and \"Skill India\" to promote industrial growth.\\n* **Foreign Investment:**  India has attracted significant foreign direct investment (FDI) in various sectors.\\n* **Technological Advancements:** Adoption of new technologies is driving efficiency and productivity.\\n\\n**Challenges to Industrial Growth:**\\n\\n* **Infrastructure Deficiencies:**  Inadequate infrastructure, particularly in power, transportation, and logistics, can hinder growth.\\n* **Bureaucracy and Regulatory Hurdles:**  While reforms have been made, complex regulations and bureaucratic processes can still be a challenge.\\n* **Land Acquisition:**  Acquiring land for industrial projects can be a difficult and time-consuming process.\\n* **Skill Gaps:**  There is a need to address skill gaps in certain sectors to meet the demands of industry.\\n* **Environmental Concerns:**  Industrial growth needs to be balanced with environmental sustainability.\\n* **Regional Disparities:** Industrial growth is not uniform across the country, with some regions lagging behind.\\n\\n**Current Trends and Future Outlook:**\\n\\n* **Focus on Sustainability:** There\\'s a growing emphasis on sustainable industrial practices and green technologies.\\n* **Digital Transformation:**  Industries are increasingly adopting digital technologies like automation, AI, and data analytics.\\n* **Emphasis on Innovation:**  The government is promoting research and development and innovation.\\n* **Global Integration:**  India is becoming more integrated into the global supply chain.\\n* **Geopolitical Factors:**  Global geopolitical events and trade dynamics can impact India\\'s industrial growth.\\n\\n**In Conclusion:**\\n\\nIndia\\'s industrial growth is a story of transformation, moving from a largely state-controlled economy to a more dynamic and market-driven one. While it has achieved significant progress, challenges remain. The country\\'s future industrial growth will depend on its ability to address these challenges, leverage its strengths, and adapt to the evolving global landscape.\\n\\nThis is a broad overview. If you have specific questions about a particular sector or aspect of India\\'s industrial growth, feel free to ask!\\n']}"
      ]
     },
     "execution_count": 83,
     "metadata": {},
     "output_type": "execute_result"
    }
   ],
   "source": [
    "output"
   ]
  },
  {
   "cell_type": "code",
   "execution_count": 84,
   "metadata": {},
   "outputs": [
    {
     "name": "stdout",
     "output_type": "stream",
     "text": [
      "Tell me about Transformer\n",
      "Topic='Transformer' Reasoning='The user is explicitly asking about the topic of Transformer.'\n",
      "-> Router ->\n",
      "Transformer\n",
      "-> Calling RAG ->\n",
      "Tell me about Transformer\n",
      "input_variables=['context', 'question'] input_types={} partial_variables={} messages=[HumanMessagePromptTemplate(prompt=PromptTemplate(input_variables=['context', 'question'], input_types={}, partial_variables={}, template='Answer the question based only on the following context:\\n    {context}\\n\\n    Question: {question}\\n    '), additional_kwargs={})]\n"
     ]
    }
   ],
   "source": [
    "inputs = {\"messages\": [\"Tell me about Transformer\"]}\n",
    "output = app5.invoke(inputs)"
   ]
  },
  {
   "cell_type": "code",
   "execution_count": 85,
   "metadata": {},
   "outputs": [
    {
     "data": {
      "text/plain": [
       "{'messages': ['Tell me about Transformer',\n",
       "  'Transformer',\n",
       "  'The document mentions \"transformer\", \"transformers\", and \"Transformers are the most highly efficient electrical devices.\"\\n']}"
      ]
     },
     "execution_count": 85,
     "metadata": {},
     "output_type": "execute_result"
    }
   ],
   "source": [
    "output"
   ]
  },
  {
   "cell_type": "code",
   "execution_count": null,
   "metadata": {},
   "outputs": [],
   "source": []
  }
 ],
 "metadata": {
  "kernelspec": {
   "display_name": "ten",
   "language": "python",
   "name": "python3"
  },
  "language_info": {
   "codemirror_mode": {
    "name": "ipython",
    "version": 3
   },
   "file_extension": ".py",
   "mimetype": "text/x-python",
   "name": "python",
   "nbconvert_exporter": "python",
   "pygments_lexer": "ipython3",
   "version": "3.10.15"
  }
 },
 "nbformat": 4,
 "nbformat_minor": 2
}
